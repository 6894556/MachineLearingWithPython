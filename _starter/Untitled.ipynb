{
 "cells": [
  {
   "cell_type": "code",
   "execution_count": 1,
   "id": "82d40c00",
   "metadata": {},
   "outputs": [
    {
     "data": {
      "text/plain": [
       "11"
      ]
     },
     "execution_count": 1,
     "metadata": {},
     "output_type": "execute_result"
    }
   ],
   "source": [
    "11"
   ]
  },
  {
   "cell_type": "code",
   "execution_count": 2,
   "id": "be056ec5",
   "metadata": {},
   "outputs": [],
   "source": [
    "# Lesson 09: PyTorch review"
   ]
  },
  {
   "cell_type": "code",
   "execution_count": 3,
   "id": "b61c3b36",
   "metadata": {},
   "outputs": [],
   "source": [
    "# Image classification by PyTorch"
   ]
  },
  {
   "cell_type": "code",
   "execution_count": 4,
   "id": "145d6b4e",
   "metadata": {},
   "outputs": [],
   "source": [
    "# Deep Learning frameworks: PyTorch, Tensorflow"
   ]
  },
  {
   "cell_type": "code",
   "execution_count": 5,
   "id": "6dab168b",
   "metadata": {},
   "outputs": [],
   "source": [
    "# data: MNIST"
   ]
  },
  {
   "cell_type": "code",
   "execution_count": 6,
   "id": "19f24903",
   "metadata": {},
   "outputs": [],
   "source": [
    "# Transforming: transform images to tensor by transform.ToTensor()\n",
    "# Normalizing : by transform.Normalize([mean, std])"
   ]
  },
  {
   "cell_type": "code",
   "execution_count": 14,
   "id": "baf99901",
   "metadata": {},
   "outputs": [],
   "source": [
    "from torchvision import datasets, transforms\n",
    "import torch"
   ]
  },
  {
   "cell_type": "code",
   "execution_count": 12,
   "id": "391ef184",
   "metadata": {},
   "outputs": [
    {
     "data": {
      "text/plain": [
       "Dataset MNIST\n",
       "    Number of datapoints: 60000\n",
       "    Root location: downloads/\n",
       "    Split: Train\n",
       "    StandardTransform\n",
       "Transform: ToTensor()"
      ]
     },
     "execution_count": 12,
     "metadata": {},
     "output_type": "execute_result"
    }
   ],
   "source": [
    "data_path = \"downloads/\"\n",
    "mnist_train = datasets.MNIST(data_path,\n",
    "                             train=True,\n",
    "                             download=True,\n",
    "                            transform=transforms.ToTensor()) # tensor로 transform된 train set\n",
    "mnist_train"
   ]
  },
  {
   "cell_type": "code",
   "execution_count": 18,
   "id": "b9169314",
   "metadata": {},
   "outputs": [
    {
     "data": {
      "text/plain": [
       "Dataset MNIST\n",
       "    Number of datapoints: 10000\n",
       "    Root location: downloads/\n",
       "    Split: Test\n",
       "    StandardTransform\n",
       "Transform: ToTensor()"
      ]
     },
     "execution_count": 18,
     "metadata": {},
     "output_type": "execute_result"
    }
   ],
   "source": [
    "mnist_val = datasets.MNIST(data_path,\n",
    "                           train=False,\n",
    "                           download=True,\n",
    "                          transform=transforms.ToTensor()) # tensor로 transform된 validation set\n",
    "mnist_val"
   ]
  },
  {
   "cell_type": "markdown",
   "id": "a966ce90",
   "metadata": {},
   "source": [
    "## normalize\n",
    "mnist_train과 mnist_val을 normalize 해보자. normalize 하기 위해서는 다음이 필요하다.\n",
    "1. torch.stack\n",
    "2. mean값 계산\n",
    "3. std값 계산\n",
    "4. transform.Normalize([mean값, std값])를 datasets.MNIST()의 transform=transforms.compose()에 추가"
   ]
  },
  {
   "cell_type": "markdown",
   "id": "3e5bc46f",
   "metadata": {},
   "source": [
    "### torch.stack\n",
    "- Concatenates a sequence of tensors along a new dimension."
   ]
  },
  {
   "cell_type": "code",
   "execution_count": 19,
   "id": "484d470f",
   "metadata": {},
   "outputs": [],
   "source": [
    "# 무엇을 한건지 잘 모르겠다..\n",
    "imgs = torch.stack([img_t for img_t, _ in mnist_train], dim=3)\n",
    "#imgs"
   ]
  },
  {
   "cell_type": "code",
   "execution_count": 20,
   "id": "41c5153d",
   "metadata": {},
   "outputs": [
    {
     "data": {
      "text/plain": [
       "tensor([0.1307])"
      ]
     },
     "execution_count": 20,
     "metadata": {},
     "output_type": "execute_result"
    }
   ],
   "source": [
    "# mean값 계산하기\n",
    "imgs.view(1, -1).mean(dim=1)"
   ]
  },
  {
   "cell_type": "code",
   "execution_count": 21,
   "id": "d8bc46f2",
   "metadata": {},
   "outputs": [
    {
     "data": {
      "text/plain": [
       "tensor([0.3081])"
      ]
     },
     "execution_count": 21,
     "metadata": {},
     "output_type": "execute_result"
    }
   ],
   "source": [
    "# std값 계산하기\n",
    "imgs.view(1, -1).std(dim=1)"
   ]
  },
  {
   "cell_type": "code",
   "execution_count": 26,
   "id": "c1ac4a0c",
   "metadata": {},
   "outputs": [
    {
     "ename": "TypeError",
     "evalue": "'type' object is not subscriptable",
     "output_type": "error",
     "traceback": [
      "\u001b[1;31m---------------------------------------------------------------------------\u001b[0m",
      "\u001b[1;31mTypeError\u001b[0m                                 Traceback (most recent call last)",
      "Input \u001b[1;32mIn [26]\u001b[0m, in \u001b[0;36m<cell line: 2>\u001b[1;34m()\u001b[0m\n\u001b[0;32m      1\u001b[0m \u001b[38;5;66;03m# dataset.MNIST()에 추가하기\u001b[39;00m\n\u001b[0;32m      2\u001b[0m mnist_train \u001b[38;5;241m=\u001b[39m datasets\u001b[38;5;241m.\u001b[39mMNIST(data_path,\n\u001b[0;32m      3\u001b[0m                             train\u001b[38;5;241m=\u001b[39m\u001b[38;5;28;01mTrue\u001b[39;00m,\n\u001b[0;32m      4\u001b[0m                             download\u001b[38;5;241m=\u001b[39m\u001b[38;5;28;01mFalse\u001b[39;00m,\n\u001b[1;32m----> 5\u001b[0m                             transform\u001b[38;5;241m=\u001b[39m\u001b[43mtransforms\u001b[49m\u001b[38;5;241;43m.\u001b[39;49m\u001b[43mCompose\u001b[49m\u001b[43m[\u001b[49m\u001b[43mtransforms\u001b[49m\u001b[38;5;241;43m.\u001b[39;49m\u001b[43mToTensor\u001b[49m\u001b[43m(\u001b[49m\u001b[43m)\u001b[49m\u001b[43m,\u001b[49m\n\u001b[0;32m      6\u001b[0m \u001b[43m                                                         \u001b[49m\u001b[43mtransforms\u001b[49m\u001b[38;5;241;43m.\u001b[39;49m\u001b[43mNormalize\u001b[49m\u001b[43m(\u001b[49m\u001b[38;5;241;43m0.1307\u001b[39;49m\u001b[43m,\u001b[49m\u001b[38;5;241;43m0.3081\u001b[39;49m\u001b[43m)\u001b[49m\u001b[43m]\u001b[49m)\n\u001b[0;32m      7\u001b[0m mnist_train\n",
      "\u001b[1;31mTypeError\u001b[0m: 'type' object is not subscriptable"
     ]
    }
   ],
   "source": [
    "# dataset.MNIST()에 추가하기\n",
    "mnist_train = datasets.MNIST(data_path,\n",
    "                            train=True,\n",
    "                            download=False,\n",
    "                            transform=transforms.Compose[transforms.ToTensor(),\n",
    "                                                         transforms.Normalize(0.1307,0.3081)])\n",
    "mnist_train"
   ]
  },
  {
   "cell_type": "code",
   "execution_count": null,
   "id": "074de910",
   "metadata": {},
   "outputs": [],
   "source": []
  }
 ],
 "metadata": {
  "kernelspec": {
   "display_name": "Python 3 (ipykernel)",
   "language": "python",
   "name": "python3"
  },
  "language_info": {
   "codemirror_mode": {
    "name": "ipython",
    "version": 3
   },
   "file_extension": ".py",
   "mimetype": "text/x-python",
   "name": "python",
   "nbconvert_exporter": "python",
   "pygments_lexer": "ipython3",
   "version": "3.9.12"
  }
 },
 "nbformat": 4,
 "nbformat_minor": 5
}
