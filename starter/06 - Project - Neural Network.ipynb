{
 "cells": [
  {
   "cell_type": "markdown",
   "id": "8b1dcffe",
   "metadata": {},
   "source": [
    "# Project: Neural Network\n",
    "- Diabetes Classification\n",
    "- Given a dataset of various metrics can we predict if a patient has diabetes"
   ]
  },
  {
   "cell_type": "markdown",
   "id": "9631cb36",
   "metadata": {},
   "source": [
    "### Step 1: Import libraries"
   ]
  },
  {
   "cell_type": "code",
   "execution_count": 3,
   "id": "1ea8ac77",
   "metadata": {},
   "outputs": [],
   "source": [
    "# predict if people have diabetes or not.\n",
    "\n",
    "# project instruction:\n",
    "# you should try this on your own step by step\n",
    "# if you get stuck will help you. \n",
    "# if you get unstuck don't follow me along\n",
    "# try it yourself again.\n",
    "import pandas as pd\n",
    "import numpy as np\n",
    "import tensorflow as tf\n",
    "import matplotlib.pyplot as plt\n",
    "%matplotlib inline"
   ]
  },
  {
   "cell_type": "code",
   "execution_count": 6,
   "id": "0a03192d",
   "metadata": {},
   "outputs": [],
   "source": [
    "from sklearn.model_selection import train_test_split\n",
    "from tensorflow.keras.models import Sequential\n",
    "from tensorflow.keras.layers import Dense"
   ]
  },
  {
   "cell_type": "markdown",
   "id": "c42bbc01",
   "metadata": {},
   "source": [
    "### Step 2: Read the data\n",
    "- Use Pandas [read_csv](https://pandas.pydata.org/pandas-docs/stable/reference/api/pandas.read_csv.html) method to read **files/diabetes.csv**"
   ]
  },
  {
   "cell_type": "code",
   "execution_count": 8,
   "id": "5700bc59",
   "metadata": {},
   "outputs": [
    {
     "name": "stdout",
     "output_type": "stream",
     "text": [
      "<class 'pandas.core.frame.DataFrame'>\n",
      "RangeIndex: 768 entries, 0 to 767\n",
      "Data columns (total 9 columns):\n",
      " #   Column                        Non-Null Count  Dtype  \n",
      "---  ------                        --------------  -----  \n",
      " 0   Number of times pregnant      768 non-null    int64  \n",
      " 1   Plasma glucose concentration  768 non-null    int64  \n",
      " 2   Diastolic blood pressure      768 non-null    int64  \n",
      " 3   Triceps skin fold thickness   768 non-null    int64  \n",
      " 4   2-Hour serum insulin          768 non-null    int64  \n",
      " 5   Body mass index               768 non-null    float64\n",
      " 6   Diabetes pedigree function    768 non-null    float64\n",
      " 7   Age                           768 non-null    int64  \n",
      " 8   Class variable                768 non-null    int64  \n",
      "dtypes: float64(2), int64(7)\n",
      "memory usage: 54.1 KB\n"
     ]
    }
   ],
   "source": [
    "data = pd.read_csv('files/diabetes.csv')\n",
    "data.info()"
   ]
  },
  {
   "cell_type": "code",
   "execution_count": 35,
   "id": "02f566c9",
   "metadata": {},
   "outputs": [
    {
     "data": {
      "text/plain": [
       "array([1, 0], dtype=int64)"
      ]
     },
     "execution_count": 35,
     "metadata": {},
     "output_type": "execute_result"
    }
   ],
   "source": [
    "# 1: diabetes\n",
    "# 0: not diabetes\n",
    "data['Class variable'].unique()"
   ]
  },
  {
   "cell_type": "markdown",
   "id": "afaa56d9",
   "metadata": {},
   "source": [
    "### Step 3: Check for data quality\n",
    "- Check **.isna().sum()**\n",
    "- Check **.dtypes**"
   ]
  },
  {
   "cell_type": "code",
   "execution_count": 36,
   "id": "a3c2fc07",
   "metadata": {},
   "outputs": [],
   "source": [
    "# data.info()에서 결측값과 dtype을 확인했으므로 skip"
   ]
  },
  {
   "cell_type": "code",
   "execution_count": null,
   "id": "2eb885de",
   "metadata": {},
   "outputs": [],
   "source": [
    "# dtype을 확인하는 이유: numeric(float or int)처럼 보여도 string일 수도 있기 때문\n",
    "# 일단은 numeric feature만 모델에 넣는다."
   ]
  },
  {
   "cell_type": "markdown",
   "id": "c11677e0",
   "metadata": {},
   "source": [
    "### Step 4: Create dataset\n",
    "- Assign **X** to all but the last column\n",
    "- Assign **y** to the last column"
   ]
  },
  {
   "cell_type": "code",
   "execution_count": 13,
   "id": "9458504c",
   "metadata": {
    "collapsed": true
   },
   "outputs": [
    {
     "data": {
      "text/html": [
       "<div>\n",
       "<style scoped>\n",
       "    .dataframe tbody tr th:only-of-type {\n",
       "        vertical-align: middle;\n",
       "    }\n",
       "\n",
       "    .dataframe tbody tr th {\n",
       "        vertical-align: top;\n",
       "    }\n",
       "\n",
       "    .dataframe thead th {\n",
       "        text-align: right;\n",
       "    }\n",
       "</style>\n",
       "<table border=\"1\" class=\"dataframe\">\n",
       "  <thead>\n",
       "    <tr style=\"text-align: right;\">\n",
       "      <th></th>\n",
       "      <th>Number of times pregnant</th>\n",
       "      <th>Plasma glucose concentration</th>\n",
       "      <th>Diastolic blood pressure</th>\n",
       "      <th>Triceps skin fold thickness</th>\n",
       "      <th>2-Hour serum insulin</th>\n",
       "      <th>Body mass index</th>\n",
       "      <th>Diabetes pedigree function</th>\n",
       "      <th>Age</th>\n",
       "    </tr>\n",
       "  </thead>\n",
       "  <tbody>\n",
       "    <tr>\n",
       "      <th>0</th>\n",
       "      <td>6</td>\n",
       "      <td>148</td>\n",
       "      <td>72</td>\n",
       "      <td>35</td>\n",
       "      <td>0</td>\n",
       "      <td>33.6</td>\n",
       "      <td>0.627</td>\n",
       "      <td>50</td>\n",
       "    </tr>\n",
       "    <tr>\n",
       "      <th>1</th>\n",
       "      <td>1</td>\n",
       "      <td>85</td>\n",
       "      <td>66</td>\n",
       "      <td>29</td>\n",
       "      <td>0</td>\n",
       "      <td>26.6</td>\n",
       "      <td>0.351</td>\n",
       "      <td>31</td>\n",
       "    </tr>\n",
       "    <tr>\n",
       "      <th>2</th>\n",
       "      <td>8</td>\n",
       "      <td>183</td>\n",
       "      <td>64</td>\n",
       "      <td>0</td>\n",
       "      <td>0</td>\n",
       "      <td>23.3</td>\n",
       "      <td>0.672</td>\n",
       "      <td>32</td>\n",
       "    </tr>\n",
       "    <tr>\n",
       "      <th>3</th>\n",
       "      <td>1</td>\n",
       "      <td>89</td>\n",
       "      <td>66</td>\n",
       "      <td>23</td>\n",
       "      <td>94</td>\n",
       "      <td>28.1</td>\n",
       "      <td>0.167</td>\n",
       "      <td>21</td>\n",
       "    </tr>\n",
       "    <tr>\n",
       "      <th>4</th>\n",
       "      <td>0</td>\n",
       "      <td>137</td>\n",
       "      <td>40</td>\n",
       "      <td>35</td>\n",
       "      <td>168</td>\n",
       "      <td>43.1</td>\n",
       "      <td>2.288</td>\n",
       "      <td>33</td>\n",
       "    </tr>\n",
       "    <tr>\n",
       "      <th>...</th>\n",
       "      <td>...</td>\n",
       "      <td>...</td>\n",
       "      <td>...</td>\n",
       "      <td>...</td>\n",
       "      <td>...</td>\n",
       "      <td>...</td>\n",
       "      <td>...</td>\n",
       "      <td>...</td>\n",
       "    </tr>\n",
       "    <tr>\n",
       "      <th>763</th>\n",
       "      <td>10</td>\n",
       "      <td>101</td>\n",
       "      <td>76</td>\n",
       "      <td>48</td>\n",
       "      <td>180</td>\n",
       "      <td>32.9</td>\n",
       "      <td>0.171</td>\n",
       "      <td>63</td>\n",
       "    </tr>\n",
       "    <tr>\n",
       "      <th>764</th>\n",
       "      <td>2</td>\n",
       "      <td>122</td>\n",
       "      <td>70</td>\n",
       "      <td>27</td>\n",
       "      <td>0</td>\n",
       "      <td>36.8</td>\n",
       "      <td>0.340</td>\n",
       "      <td>27</td>\n",
       "    </tr>\n",
       "    <tr>\n",
       "      <th>765</th>\n",
       "      <td>5</td>\n",
       "      <td>121</td>\n",
       "      <td>72</td>\n",
       "      <td>23</td>\n",
       "      <td>112</td>\n",
       "      <td>26.2</td>\n",
       "      <td>0.245</td>\n",
       "      <td>30</td>\n",
       "    </tr>\n",
       "    <tr>\n",
       "      <th>766</th>\n",
       "      <td>1</td>\n",
       "      <td>126</td>\n",
       "      <td>60</td>\n",
       "      <td>0</td>\n",
       "      <td>0</td>\n",
       "      <td>30.1</td>\n",
       "      <td>0.349</td>\n",
       "      <td>47</td>\n",
       "    </tr>\n",
       "    <tr>\n",
       "      <th>767</th>\n",
       "      <td>1</td>\n",
       "      <td>93</td>\n",
       "      <td>70</td>\n",
       "      <td>31</td>\n",
       "      <td>0</td>\n",
       "      <td>30.4</td>\n",
       "      <td>0.315</td>\n",
       "      <td>23</td>\n",
       "    </tr>\n",
       "  </tbody>\n",
       "</table>\n",
       "<p>768 rows × 8 columns</p>\n",
       "</div>"
      ],
      "text/plain": [
       "     Number of times pregnant  Plasma glucose concentration  \\\n",
       "0                           6                           148   \n",
       "1                           1                            85   \n",
       "2                           8                           183   \n",
       "3                           1                            89   \n",
       "4                           0                           137   \n",
       "..                        ...                           ...   \n",
       "763                        10                           101   \n",
       "764                         2                           122   \n",
       "765                         5                           121   \n",
       "766                         1                           126   \n",
       "767                         1                            93   \n",
       "\n",
       "     Diastolic blood pressure  Triceps skin fold thickness  \\\n",
       "0                          72                           35   \n",
       "1                          66                           29   \n",
       "2                          64                            0   \n",
       "3                          66                           23   \n",
       "4                          40                           35   \n",
       "..                        ...                          ...   \n",
       "763                        76                           48   \n",
       "764                        70                           27   \n",
       "765                        72                           23   \n",
       "766                        60                            0   \n",
       "767                        70                           31   \n",
       "\n",
       "     2-Hour serum insulin  Body mass index  Diabetes pedigree function  Age  \n",
       "0                       0             33.6                       0.627   50  \n",
       "1                       0             26.6                       0.351   31  \n",
       "2                       0             23.3                       0.672   32  \n",
       "3                      94             28.1                       0.167   21  \n",
       "4                     168             43.1                       2.288   33  \n",
       "..                    ...              ...                         ...  ...  \n",
       "763                   180             32.9                       0.171   63  \n",
       "764                     0             36.8                       0.340   27  \n",
       "765                   112             26.2                       0.245   30  \n",
       "766                     0             30.1                       0.349   47  \n",
       "767                     0             30.4                       0.315   23  \n",
       "\n",
       "[768 rows x 8 columns]"
      ]
     },
     "execution_count": 13,
     "metadata": {},
     "output_type": "execute_result"
    }
   ],
   "source": [
    "X = data.loc[:, :'Age'] # data.iloc[:,:-1]\n",
    "X"
   ]
  },
  {
   "cell_type": "code",
   "execution_count": 14,
   "id": "4f742614",
   "metadata": {
    "collapsed": true
   },
   "outputs": [
    {
     "data": {
      "text/plain": [
       "0      1\n",
       "1      0\n",
       "2      1\n",
       "3      0\n",
       "4      1\n",
       "      ..\n",
       "763    0\n",
       "764    0\n",
       "765    0\n",
       "766    1\n",
       "767    0\n",
       "Name: Class variable, Length: 768, dtype: int64"
      ]
     },
     "execution_count": 14,
     "metadata": {},
     "output_type": "execute_result"
    }
   ],
   "source": [
    "y = data.loc[:,'Class variable'] # data.iloc[:,-1]\n",
    "y"
   ]
  },
  {
   "cell_type": "markdown",
   "id": "8017f19c",
   "metadata": {},
   "source": [
    "### Step 5: Create training and test set\n",
    "- Use **train_test_split** to create **X_train, X_test, y_train, y_test**."
   ]
  },
  {
   "cell_type": "code",
   "execution_count": 15,
   "id": "002d2006",
   "metadata": {},
   "outputs": [],
   "source": [
    "X_train, X_valid, y_train, y_valid = train_test_split(X, y, random_state=42)\n",
    "# random_state를 42로 하는 이유를 google에 검색해볼 것."
   ]
  },
  {
   "cell_type": "code",
   "execution_count": null,
   "id": "6466384f",
   "metadata": {},
   "outputs": [],
   "source": []
  },
  {
   "cell_type": "markdown",
   "id": "2ca69460",
   "metadata": {},
   "source": [
    "### Step 6: Calculate average accuracy for 10 runs\n",
    "- Create an empty list and assign it to **accuracies**\n",
    "- Loop over **i** over 10 integers.\n",
    "    - Set the random seed: **tf.random.set_seed(i)**\n",
    "    - Create a **Sequential** model\n",
    "    - Add a **Dense** layer with one exit node and **input_dim=8**, and **activation='sigmoid'**\n",
    "    - Compile the model with **loss='binary_crossentropy', optimizer='adam', metrics=['accuracy']**\n",
    "    - Fit the model with **epochs=1500, batch_size=100, verbose=0**\n",
    "    - Calculate the accuracy with **evaluate** on **X_test** and **y_test**\n",
    "        - The second return variable is the accuracy\n",
    "    - Append the accuracy (possibly multiplied by 100) to **accuraries**\n",
    "- Calculate the average value"
   ]
  },
  {
   "cell_type": "code",
   "execution_count": 17,
   "id": "91647c05",
   "metadata": {},
   "outputs": [
    {
     "name": "stdout",
     "output_type": "stream",
     "text": [
      "6/6 [==============================] - 0s 873us/step - loss: 0.5230 - accuracy: 0.7344\n",
      "6/6 [==============================] - 0s 991us/step - loss: 0.5274 - accuracy: 0.7604\n",
      "6/6 [==============================] - 0s 965us/step - loss: 0.5194 - accuracy: 0.7604\n",
      "6/6 [==============================] - 0s 1ms/step - loss: 0.5260 - accuracy: 0.7604\n",
      "6/6 [==============================] - 0s 1ms/step - loss: 0.5290 - accuracy: 0.7552\n",
      "6/6 [==============================] - 0s 920us/step - loss: 0.5224 - accuracy: 0.7448\n",
      "6/6 [==============================] - 0s 1ms/step - loss: 0.5191 - accuracy: 0.7500\n",
      "6/6 [==============================] - 0s 1ms/step - loss: 0.5346 - accuracy: 0.7448\n",
      "6/6 [==============================] - 0s 875us/step - loss: 0.5261 - accuracy: 0.7604\n",
      "6/6 [==============================] - 0s 1ms/step - loss: 0.5202 - accuracy: 0.7656\n"
     ]
    }
   ],
   "source": [
    "accuracies = []\n",
    "for i in range(10):\n",
    "    tf.random.set_seed(i)\n",
    "    model = Sequential()\n",
    "    # Dense의 units는 required argument이다.\n",
    "    # 따라서 units는 반드시 지정해야 한다.\n",
    "    model.add(Dense(1, input_dim=8, activation='sigmoid'))\n",
    "    model.compile(optimizer='adam', loss='binary_crossentropy', metrics=['accuracy'])\n",
    "    model.fit(X_train, y_train, epochs=1500, batch_size=100, verbose=0)\n",
    "    acc = model.evaluate(X_valid, y_valid) # _, accuracy = model.evaluate(X_valid, y_valid)\n",
    "    accuracies.append(acc[1]*100) # accuracies.append(accuracy*100)"
   ]
  },
  {
   "cell_type": "code",
   "execution_count": 37,
   "id": "526232c5",
   "metadata": {},
   "outputs": [
    {
     "data": {
      "text/plain": [
       "75.36458432674408"
      ]
     },
     "execution_count": 37,
     "metadata": {},
     "output_type": "execute_result"
    }
   ],
   "source": [
    "# average\n",
    "\n",
    "sum = 0\n",
    "for acc in accuracies:\n",
    "    sum += acc\n",
    "    \n",
    "avg = sum / len(accuracies)\n",
    "avg # 평균적으로 정확도가 75%이다.\n",
    "\n",
    "# sum(accuracies / len(accuracies))"
   ]
  },
  {
   "cell_type": "markdown",
   "id": "b8ff3d82",
   "metadata": {},
   "source": [
    "### Step 7: Predict values\n",
    "- Predict all values with model on **X**\n",
    "- Make it into class ids with **np.where(y_pred < 0.5, 0, 1)** *(assuming **y_pred** is the predictions)*"
   ]
  },
  {
   "cell_type": "code",
   "execution_count": 32,
   "id": "54495c1f",
   "metadata": {},
   "outputs": [
    {
     "name": "stdout",
     "output_type": "stream",
     "text": [
      "24/24 [==============================] - 0s 654us/step\n"
     ]
    },
    {
     "data": {
      "text/plain": [
       "(768,)"
      ]
     },
     "execution_count": 32,
     "metadata": {},
     "output_type": "execute_result"
    }
   ],
   "source": [
    "y_pred = model.predict(X)\n",
    "# making perdictions as class ids\n",
    "y_pred = np.where(y_pred < .5, 0, 1)\n",
    "y_pred.T[0].shape"
   ]
  },
  {
   "cell_type": "code",
   "execution_count": null,
   "id": "616dbd8d",
   "metadata": {},
   "outputs": [],
   "source": []
  },
  {
   "cell_type": "markdown",
   "id": "7e3999bd",
   "metadata": {},
   "source": [
    "### Step 8 (Optional): Visualize correct vs incorrect predictions\n",
    "- Calculate the ones that differ\n",
    "    - **np.abs(y.to_numpy() - y_pred.T)** *(assuming the variables names are correct)*\n",
    "    - Incorrect predictions will be 1, correct will be 0\n",
    "- Make a scatter plot with the two variables and the correctness calculations as colors"
   ]
  },
  {
   "cell_type": "code",
   "execution_count": 38,
   "id": "9e269702",
   "metadata": {},
   "outputs": [
    {
     "data": {
      "text/plain": [
       "<matplotlib.collections.PathCollection at 0x1ef0d8002e0>"
      ]
     },
     "execution_count": 38,
     "metadata": {},
     "output_type": "execute_result"
    },
    {
     "data": {
      "image/png": "[encoded data removed]",
      "text/plain": [
       "<Figure size 432x288 with 1 Axes>"
      ]
     },
     "metadata": {
      "needs_background": "light"
     },
     "output_type": "display_data"
    }
   ],
   "source": [
    "color = np.abs(y.to_numpy() - y_pred.T) # differ\n",
    "\n",
    "fig, ax = plt.subplots()\n",
    "# 'Body mass index'와 ''는 feature에서 임의로 택한 column이다.\n",
    "ax.scatter(x=X['Body mass index'], y=X['Age'], c=color, alpha=.25)\n",
    "# ax.scatter(x=y, y=y_pred.T[0], c=color)\n",
    "\n",
    "# figure 해설:\n",
    "# diabetes or not에 대한 figure가 아니다.\n",
    "# correct하게 predict한 것과 incorrectly predict한 것을 분류한 것이다.\n",
    "# Body mass index (BMI)가 낮으면서\n",
    "# Age가 20 이상인 data에 대해서 model의 정확도가 높았다.\n",
    "# bmi와 age가 높아질 수록 model의 정확도가 낮아진다."
   ]
  },
  {
   "cell_type": "code",
   "execution_count": null,
   "id": "6961f616",
   "metadata": {},
   "outputs": [],
   "source": [
    "# visualization is a great way to\n",
    "# get an idea of what's happening in the model."
   ]
  }
 ],
 "metadata": {
  "kernelspec": {
   "display_name": "Python 3 (ipykernel)",
   "language": "python",
   "name": "python3"
  },
  "language_info": {
   "codemirror_mode": {
    "name": "ipython",
    "version": 3
   },
   "file_extension": ".py",
   "mimetype": "text/x-python",
   "name": "python",
   "nbconvert_exporter": "python",
   "pygments_lexer": "ipython3",
   "version": "3.9.12"
  }
 },
 "nbformat": 4,
 "nbformat_minor": 5
}
