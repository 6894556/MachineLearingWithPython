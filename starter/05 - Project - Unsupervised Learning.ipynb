{
 "cells": [
  {
   "cell_type": "markdown",
   "id": "fed335da",
   "metadata": {},
   "source": [
    "# Project: Choosing the \"right\" $k$\n",
    "There are two widely used methods to get a good value for $k$.\n",
    "- The elbow method\n",
    "- The silhouette coefficient"
   ]
  },
  {
   "cell_type": "markdown",
   "id": "772ba42a",
   "metadata": {},
   "source": [
    "## The elbow method\n",
    "- Make a chart over different $k$ values\n",
    "- If the line chart resembles an arm, then the “elbow” is a good indication of a best fit at that point"
   ]
  },
  {
   "cell_type": "markdown",
   "id": "453014ec",
   "metadata": {},
   "source": [
    "### Step 1: Import libraries"
   ]
  },
  {
   "cell_type": "code",
   "execution_count": 1,
   "id": "839e8ebb",
   "metadata": {},
   "outputs": [],
   "source": [
    "import pandas as pd\n",
    "import numpy as np\n",
    "import matplotlib.pyplot as plt\n",
    "%matplotlib inline"
   ]
  },
  {
   "cell_type": "code",
   "execution_count": 2,
   "id": "1f26cbaa",
   "metadata": {},
   "outputs": [],
   "source": [
    "from sklearn.cluster import KMeans"
   ]
  },
  {
   "cell_type": "markdown",
   "id": "2de85794",
   "metadata": {},
   "source": [
    "### Step 2: Generate data"
   ]
  },
  {
   "cell_type": "markdown",
   "id": "f2105449",
   "metadata": {},
   "source": [
    "[numpy.random.randn](https://numpy.org/doc/stable/reference/random/generated/numpy.random.randn.html)\n",
    "\n",
    "d0, d1, ..., dn : The dimensions of the returned array, must be non-negative."
   ]
  },
  {
   "cell_type": "code",
   "execution_count": 22,
   "id": "f207399e",
   "metadata": {},
   "outputs": [],
   "source": [
    "data = np.random.randn(400, 2)\n",
    "\n",
    "\n",
    "# (400, 2)를 (100, 2) 4개로 나누기\n",
    "data[:100] += 5, 5\n",
    "data[100:200] += 10, 10\n",
    "data[200:300] += 10, 5\n",
    "data[300:] += 5, 10"
   ]
  },
  {
   "cell_type": "code",
   "execution_count": 23,
   "id": "bdf176f4",
   "metadata": {},
   "outputs": [
    {
     "data": {
      "text/plain": [
       "<matplotlib.collections.PathCollection at 0x1c6c2ca0ee0>"
      ]
     },
     "execution_count": 23,
     "metadata": {},
     "output_type": "execute_result"
    },
    {
     "data": {
      "image/png": "[encoded data removed]",
      "text/plain": [
       "<Figure size 432x288 with 1 Axes>"
      ]
     },
     "metadata": {
      "needs_background": "light"
     },
     "output_type": "display_data"
    }
   ],
   "source": [
    "fig, ax = plt.subplots()\n",
    "ax.scatter(x=data[:, 0], y=data[:, 1])"
   ]
  },
  {
   "cell_type": "markdown",
   "id": "57d0f851",
   "metadata": {},
   "source": [
    "### Step 3: Different $k$ values\n",
    "- Create an empty list and assign it to **sse** (sum of squared error)\n",
    "- Iterate over $k$ from 1 to 10 (both inclusive)\n",
    "- Create a model **KMeans(n_cluster=k)**\n",
    "- Fit the model with **data**\n",
    "- Append the **model.inertia_** to the list **sse**"
   ]
  },
  {
   "cell_type": "code",
   "execution_count": 25,
   "id": "86affcc2",
   "metadata": {},
   "outputs": [
    {
     "name": "stderr",
     "output_type": "stream",
     "text": [
      "C:\\Users\\USER\\anaconda3\\lib\\site-packages\\sklearn\\cluster\\_kmeans.py:1036: UserWarning: KMeans is known to have a memory leak on Windows with MKL, when there are less chunks than available threads. You can avoid it by setting the environment variable OMP_NUM_THREADS=2.\n",
      "  warnings.warn(\n"
     ]
    }
   ],
   "source": [
    "sse = []\n",
    "for k in range(1, 11):\n",
    "    model = KMeans(n_clusters=k)\n",
    "    model.fit(data)\n",
    "    sse.append(model.inertia_)"
   ]
  },
  {
   "cell_type": "code",
   "execution_count": 26,
   "id": "24536fc6",
   "metadata": {},
   "outputs": [
    {
     "data": {
      "text/plain": [
       "[5640.172544908248,\n",
       " 3135.1408843549457,\n",
       " 1864.4465794834682,\n",
       " 709.0116897219402,\n",
       " 629.7757503082336,\n",
       " 561.423789637509,\n",
       " 500.0135496252475,\n",
       " 436.1924255826908,\n",
       " 402.8066659292965,\n",
       " 361.70913509486707]"
      ]
     },
     "execution_count": 26,
     "metadata": {},
     "output_type": "execute_result"
    }
   ],
   "source": [
    "sse"
   ]
  },
  {
   "cell_type": "markdown",
   "id": "e90161de",
   "metadata": {},
   "source": [
    "### Step 4: Create plot\n",
    "- Create a figure and axes (**fig, ax**) from Matplotlib.pyplot (**plt**)\n",
    "- Make a plot over **range(1, 11)** and **sse**"
   ]
  },
  {
   "cell_type": "code",
   "execution_count": 29,
   "id": "89239e3d",
   "metadata": {},
   "outputs": [
    {
     "data": {
      "text/plain": [
       "<matplotlib.collections.PathCollection at 0x1c6c6a8f640>"
      ]
     },
     "execution_count": 29,
     "metadata": {},
     "output_type": "execute_result"
    },
    {
     "data": {
      "image/png": "[encoded data removed]",
      "text/plain": [
       "<Figure size 432x288 with 1 Axes>"
      ]
     },
     "metadata": {
      "needs_background": "light"
     },
     "output_type": "display_data"
    }
   ],
   "source": [
    "fig, ax = plt.subplots()\n",
    "ax.scatter(x=range(1, 11), y=sse)"
   ]
  },
  {
   "cell_type": "code",
   "execution_count": null,
   "id": "0ceb64a5",
   "metadata": {},
   "outputs": [],
   "source": []
  },
  {
   "cell_type": "markdown",
   "id": "681aa7b4",
   "metadata": {},
   "source": [
    "## The silhouette coefficient\n",
    "- a measure of cluster cohesion and separation. \n",
    "- It quantifies how well a data point fits into its assigned cluster based on two factors:\n",
    "\n",
    "\n",
    "- How close the data point is to other points in the cluster\n",
    "- How far away the data point is from points in other clusters"
   ]
  },
  {
   "cell_type": "markdown",
   "id": "d602734c",
   "metadata": {},
   "source": [
    "### Step 1: Import libraries"
   ]
  },
  {
   "cell_type": "code",
   "execution_count": null,
   "id": "a9e3fa84",
   "metadata": {},
   "outputs": [],
   "source": []
  },
  {
   "cell_type": "markdown",
   "id": "1fc790bc",
   "metadata": {},
   "source": [
    "### Step 2: Calculate Silouette Coefficients\n",
    "- Create an empty list and assign it **silouette_coefficients**\n",
    "- Iterate $k$ over 2 to 10 (both inclusive)\n",
    "    - Create **KMeans** model with **n_clusters=k**\n",
    "    - Fit the model with **data**\n",
    "    - Calculate the silhouette score on **data** and **model.labels_** and append it to list **silouette_coefficients**"
   ]
  },
  {
   "cell_type": "code",
   "execution_count": null,
   "id": "b62beefd",
   "metadata": {},
   "outputs": [],
   "source": []
  },
  {
   "cell_type": "code",
   "execution_count": null,
   "id": "30e4d0de",
   "metadata": {},
   "outputs": [],
   "source": []
  },
  {
   "cell_type": "markdown",
   "id": "c2398af7",
   "metadata": {},
   "source": [
    "### Step 3: Plot the result\n",
    "- Create a figure and axes (**fig, ax**) from Matplotlib.pyplot (**plt**)\n",
    "- Make a plot over **range(2, 11)** and **silhouette_coefficients**"
   ]
  },
  {
   "cell_type": "code",
   "execution_count": null,
   "id": "8e1a3bc0",
   "metadata": {},
   "outputs": [],
   "source": []
  },
  {
   "cell_type": "code",
   "execution_count": null,
   "id": "20fbe250",
   "metadata": {},
   "outputs": [],
   "source": []
  },
  {
   "cell_type": "code",
   "execution_count": null,
   "id": "66e4b2be",
   "metadata": {},
   "outputs": [],
   "source": []
  }
 ],
 "metadata": {
  "kernelspec": {
   "display_name": "Python 3 (ipykernel)",
   "language": "python",
   "name": "python3"
  },
  "language_info": {
   "codemirror_mode": {
    "name": "ipython",
    "version": 3
   },
   "file_extension": ".py",
   "mimetype": "text/x-python",
   "name": "python",
   "nbconvert_exporter": "python",
   "pygments_lexer": "ipython3",
   "version": "3.9.12"
  }
 },
 "nbformat": 4,
 "nbformat_minor": 5
}
