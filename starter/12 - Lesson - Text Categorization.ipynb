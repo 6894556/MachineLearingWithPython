{
 "cells": [
  {
   "cell_type": "markdown",
   "id": "679b5aa5",
   "metadata": {},
   "source": [
    "# Text Categorization\n",
    "### Goal of lesson\n",
    "- What is Text Categorization\n",
    "- Learn about the Bag-of-Words Model\n",
    "- Understand Naive Bayes' Rule\n",
    "- How to use Naive Bayes' Rule for sentiment classification (text categorization)\n",
    "- What problem smoothing solves\n",
    "\n",
    "### What is Text Categorization\n",
    "- Example:\n",
    "    - Inbox vs Spam\n",
    "    - Product review: Positive vs Negtive review"
   ]
  },
  {
   "cell_type": "markdown",
   "id": "b37b433d",
   "metadata": {},
   "source": [
    "### Bag-of-Words Model\n",
    "- Model that represents text as an unordered collection of words\n",
    "- The structure is not important\n",
    "- Works well to classify\n",
    "\n",
    "- Example\n",
    "    - I **love** this product.\n",
    "    - This product feels **cheap**.\n",
    "    - This is the **best** product ever."
   ]
  },
  {
   "cell_type": "markdown",
   "id": "6280b34e",
   "metadata": {},
   "source": [
    "### Naive Bayes Classifier\n",
    "- Naive Bayes classifiers are a family of simple \"probabilistic classifiers\" based on applying Bayes' theorem with strong (naïve) independence assumptions between the features ([wiki](https://en.wikipedia.org/wiki/Naive_Bayes_classifier))\n",
    "\n",
    "### Bayes' Rule Theorem \n",
    "- Describes the probability of an event, based on prior knowledge of conditions that might be related to the event ([wiki](https://en.wikipedia.org/wiki/Bayes%27_theorem))\n",
    "- $P(b|a) = \\frac{P(a|b)P(b)}{P(a)}$\n",
    "\n",
    "### Explained\n",
    "$P(\\text{positive})$\n",
    "\n",
    "$P(\\text{positive}| \\text{\"I love this product\"}) = P(\\text{positive} | \\text{\"I\", \"love\", \"this\", \"product\"})$\n",
    "\n",
    "Bayes's Rule implies it is equal to\n",
    "\n",
    "$\\frac{P(\\text{\"I\", \"love\", \"this\", \"product\"} | \\text{positive}) P(\\text{positive})}{P(\\text{\"I\", \"love\", \"this\", \"product\"})}$ \n",
    "\n",
    "Or proportional to\n",
    "\n",
    "$P(\\text{\"I\", \"love\", \"this\", \"product\"} | \\text{positive}) P(\\text{positive})$\n",
    "\n",
    "The 'Naive' part we use this to simplify\n",
    "\n",
    "$P(\\text{positive})P(\\text{\"I\"} | \\text{positive})P(\\text{\"love\"} | \\text{positive})P(\\text{\"this\"} | \\text{positive})P(\\text{\"product\"} | \\text{positive})$"
   ]
  },
  {
   "cell_type": "markdown",
   "id": "e1e0418e",
   "metadata": {},
   "source": [
    "$P(\\text{positive})=\\frac{\\text{number of positive samples}}{\\text{number of samples}}$\n",
    "\n",
    "$P(\\text{\"love\"}|\\text{positive})=\\frac{\\text{number of positive samples with \"love\"}}{\\text{number of positive samples}}$\n",
    "\n"
   ]
  },
  {
   "cell_type": "markdown",
   "id": "c0fef7a3",
   "metadata": {},
   "source": [
    "### Example\n",
    "\n",
    "\"I love this product\"\n",
    "\n",
    "| positive | negative |\n",
    "| ------ | ------ |\n",
    "| 0.47 | 0.53 |\n",
    "\n",
    "| word | positive | negative |\n",
    "| ------ | ------ | ------ |\n",
    "| \"I\" | 0.30 | 0.20 |\n",
    "| \"love\" | 0.40 | 0.05 |\n",
    "| \"this\" | 0.28 | 0.42 |\n",
    "| \"product\" | 0.25 | 0.28 |\n",
    "\n",
    "\n"
   ]
  },
  {
   "cell_type": "markdown",
   "id": "272bf3bd",
   "metadata": {},
   "source": [
    "$P(\\text{positive})P(\\text{\"I\"} | \\text{positive})P(\\text{\"love\"} | \\text{positive})P(\\text{\"this\"} | \\text{positive})P(\\text{\"product\"} | \\text{positive}) = 0.47 * 0.30 * 0.40 * 0.28 * 0.25 = 0.003948$\n",
    "\n",
    "$P(\\text{negative})P(\\text{\"I\"} | \\text{negative})P(\\text{\"love\"} | \\text{negative})P(\\text{\"this\"} | \\text{negative})P(\\text{\"product\"} | \\text{negative}) = 0.53 * 0.20 * 0.05 * 0.42 * 0.28 = 0.00062328$"
   ]
  },
  {
   "cell_type": "markdown",
   "id": "16a2ff37",
   "metadata": {},
   "source": [
    "Calculate the likelyhood\n",
    "\n",
    "\"I love this product\" is positive: 0.00394 / (0.00394 + 0.00062328) = 86.3%\n",
    "\n",
    "\"I love this product\" is negative: 0.00062328 / (0.00394 + 0.00062328) = 13.7%"
   ]
  },
  {
   "cell_type": "markdown",
   "id": "6a9466a9",
   "metadata": {},
   "source": [
    "### Problem\n",
    "- If a word never showed up in a sentence\n",
    "\n",
    "### Additive Smoothing\n",
    "- Adding a value to each value in the distribution to smooth the data\n",
    "\n",
    "### Laplace smoothing\n",
    "- Adding 1 to each value in the distribution"
   ]
  },
  {
   "cell_type": "markdown",
   "id": "32d280e6",
   "metadata": {},
   "source": [
    "> #### Programming Notes:\n",
    "> - Libraries used\n",
    ">     - [**pandas**](https://pandas.pydata.org) - a data analysis and manipulation tool\n",
    ">     - [**nltk**](https://www.nltk.org) - Natural Language Toolkit\n",
    "> - Functionality and concepts used\n",
    ">     - [**CSV**](https://en.wikipedia.org/wiki/Comma-separated_values) file ([Lecture on CSV](https://youtu.be/LEyojSOg4EI))\n",
    ">     - [**read_csv()**](https://pandas.pydata.org/pandas-docs/stable/reference/api/pandas.read_csv.html) read a comma-separated values (csv) file into **pandas** DataFrame.\n",
    ">     - **List/Set/Dict Comprehension** to convert data ([Lecture on **List Comprehension**](https://youtu.be/vCYEvtfXdig))\n",
    ">     - [**word_tokenize**](https://www.nltk.org/api/nltk.tokenize.html) Tokenize a string to split off punctuation other than periods\n",
    ">     - [**NaiveBayesClassifier**](https://www.nltk.org/_modules/nltk/classify/naivebayes.html) A classifier based on the Naive Bayes algorithm"
   ]
  },
  {
   "cell_type": "code",
   "execution_count": null,
   "id": "96cf53be",
   "metadata": {},
   "outputs": [],
   "source": [
    "# How can you figure sth out about a text\n",
    "\n",
    "# Text Sentiment : Classify text, Is this a positive text, or a negative text?"
   ]
  },
  {
   "cell_type": "code",
   "execution_count": null,
   "id": "e9baac40",
   "metadata": {},
   "outputs": [],
   "source": [
    "# p(a|b): What is the probablilty of b given that a has happened\n",
    "\n",
    "# \"I love this product\" is intentionally being a positive one.\n",
    "# So that means actually the positive is seing these words\n",
    "# \"I\", \"love\", \"this\", \"product\" is positive or not. \n",
    "\n",
    "\n",
    "# What is the probablity of \"I love this product is positive\".\n",
    "\n",
    "\n",
    "# P(\"I\"|positive): How many times dis \"I\" show up a positive review.\n",
    "\n",
    "# samples are reviews. i.e. number of samples is equivalent to number of reviews."
   ]
  },
  {
   "cell_type": "code",
   "execution_count": 1,
   "id": "e36629cf",
   "metadata": {},
   "outputs": [],
   "source": [
    "# Examples\n",
    "\n",
    "# Assume that 47 are positive samples, and 53 are negative reviews.\n",
    "\n",
    "# [\"I\", \"positive\"]: \"I\" shows up in positive review's 30%. \n",
    "# 전체 positive 리뷰 중 30%의 리뷰에 \"I\"가 포함되어 있다. \n",
    "\n",
    "# \"I love this product\" is positive\n",
    "# divided by sum of these two.\n",
    "\n",
    "\n",
    "# \" I love this product \"가 positive 리뷰일 likelhood: 86.3%\n",
    "# \" I love this product \"가 negative 리뷰일 likelhood: 13.7%\n",
    "# So it's way more likely to be a positive review.\n",
    "\n",
    "# Problem: what if product never showed up in the positive reviews?\n",
    "#  Then [\"product\", \"positive\"] will be zero. (위 table 상에서)\n",
    "#  if you multiply something with zero, it becomes zero.\n",
    "#  So the positive review will be zero. \n",
    "#  [\"love\", \"positive\"]가 40% 로 매우 높음에도 불구하고,\" I love this product \"가 negative 리뷰일 likelhood가 zero가 된다.\n",
    "#  이렇게 됬을 경우 its a negative review라고 conclude할 것이다. \n",
    "#  이러한 문제점을 해결하기 위해 등장한 방법이 \"Adding Smoothing\"이다."
   ]
  },
  {
   "cell_type": "code",
   "execution_count": 2,
   "id": "c26a8097",
   "metadata": {},
   "outputs": [],
   "source": [
    "import pandas as pd\n",
    "import nltk"
   ]
  },
  {
   "cell_type": "code",
   "execution_count": 5,
   "id": "612306aa",
   "metadata": {},
   "outputs": [
    {
     "data": {
      "text/html": [
       "<div>\n",
       "<style scoped>\n",
       "    .dataframe tbody tr th:only-of-type {\n",
       "        vertical-align: middle;\n",
       "    }\n",
       "\n",
       "    .dataframe tbody tr th {\n",
       "        vertical-align: top;\n",
       "    }\n",
       "\n",
       "    .dataframe thead th {\n",
       "        text-align: right;\n",
       "    }\n",
       "</style>\n",
       "<table border=\"1\" class=\"dataframe\">\n",
       "  <thead>\n",
       "    <tr style=\"text-align: right;\">\n",
       "      <th></th>\n",
       "      <th>Text</th>\n",
       "      <th>Label</th>\n",
       "    </tr>\n",
       "  </thead>\n",
       "  <tbody>\n",
       "    <tr>\n",
       "      <th>8</th>\n",
       "      <td>So much fun</td>\n",
       "      <td>Positive</td>\n",
       "    </tr>\n",
       "    <tr>\n",
       "      <th>9</th>\n",
       "      <td>Great product, would recommend</td>\n",
       "      <td>Positive</td>\n",
       "    </tr>\n",
       "    <tr>\n",
       "      <th>10</th>\n",
       "      <td>My grandson loved it</td>\n",
       "      <td>Positive</td>\n",
       "    </tr>\n",
       "    <tr>\n",
       "      <th>11</th>\n",
       "      <td>My mother really enjoyed the gift</td>\n",
       "      <td>Positive</td>\n",
       "    </tr>\n",
       "    <tr>\n",
       "      <th>12</th>\n",
       "      <td>Great purchase!</td>\n",
       "      <td>Positive</td>\n",
       "    </tr>\n",
       "  </tbody>\n",
       "</table>\n",
       "</div>"
      ],
      "text/plain": [
       "                                 Text      Label\n",
       "8                         So much fun   Positive\n",
       "9      Great product, would recommend   Positive\n",
       "10               My grandson loved it   Positive\n",
       "11  My mother really enjoyed the gift   Positive\n",
       "12                    Great purchase!   Positive"
      ]
     },
     "execution_count": 5,
     "metadata": {},
     "output_type": "execute_result"
    }
   ],
   "source": [
    "data = pd.read_csv(\"files/sentiment.csv\")\n",
    "#data.head()\n",
    "data.tail()"
   ]
  },
  {
   "cell_type": "code",
   "execution_count": 6,
   "id": "6ac46fd8",
   "metadata": {},
   "outputs": [],
   "source": [
    "# Extract the word into a set of words.\n",
    "def extract_words(document):\n",
    "    return set(\n",
    "        word.lower() for word in nltk.word_tokenize(document)\n",
    "        if any(c.isalpha() for c in word)\n",
    "    )"
   ]
  },
  {
   "cell_type": "code",
   "execution_count": 7,
   "id": "0bca25b7",
   "metadata": {},
   "outputs": [],
   "source": [
    "# Create all the words\n",
    "# \n",
    "words = set()\n",
    "\n",
    "for line in data[\"Text\"].to_list():\n",
    "    words.update(extract_words(line))"
   ]
  },
  {
   "cell_type": "code",
   "execution_count": 9,
   "id": "111f621c",
   "metadata": {},
   "outputs": [],
   "source": [
    "#words # set of words"
   ]
  },
  {
   "cell_type": "code",
   "execution_count": 12,
   "id": "0a2e9205",
   "metadata": {},
   "outputs": [],
   "source": [
    "# Adding features to words\n",
    "# : to figure out 리뷰가 positive or negative\n",
    "features = []\n",
    "for _, row in data.iterrows():\n",
    "    #print(row) # row : text and label\n",
    "    #print(row[\"Text\"], row[\"Label\"])\n",
    "    features.append(({word: (word in row[\"Text\"]) for word in words}, row[\"Label\"]))\n",
    "    \n",
    "    # word in row[\"text\"]: take all the words in the text as a set.\n",
    "    # for word in words: take all the words in \"words\""
   ]
  },
  {
   "cell_type": "code",
   "execution_count": 13,
   "id": "51c98d94",
   "metadata": {},
   "outputs": [
    {
     "data": {
      "text/plain": [
       "({'work': False,\n",
       "  'so': False,\n",
       "  'bad': False,\n",
       "  'much': False,\n",
       "  'better': False,\n",
       "  'enjoyed': False,\n",
       "  'purchase': False,\n",
       "  'way': False,\n",
       "  'gift': False,\n",
       "  'great': False,\n",
       "  \"n't\": False,\n",
       "  'experience': False,\n",
       "  'what': False,\n",
       "  'buy': False,\n",
       "  'was': False,\n",
       "  'product': False,\n",
       "  'worth': True,\n",
       "  'of': False,\n",
       "  'kind': False,\n",
       "  'did': False,\n",
       "  'we': False,\n",
       "  'cheap': False,\n",
       "  'it': True,\n",
       "  'mother': False,\n",
       "  'recommend': False,\n",
       "  'overpriced': False,\n",
       "  'not': False,\n",
       "  'my': False,\n",
       "  'get': False,\n",
       "  'you': False,\n",
       "  'expected': False,\n",
       "  'been': False,\n",
       "  'with': False,\n",
       "  'grandson': False,\n",
       "  'loved': False,\n",
       "  'could': False,\n",
       "  'the': False,\n",
       "  'have': False,\n",
       "  'really': False,\n",
       "  'for': False,\n",
       "  'would': False,\n",
       "  'fun': False,\n",
       "  'this': False},\n",
       " ' Negative')"
      ]
     },
     "execution_count": 13,
     "metadata": {},
     "output_type": "execute_result"
    }
   ],
   "source": [
    "# features takes the words and put a truth statement if it's in  there.\n",
    "# 단어가 있는지 없는지 truth statement로 나타낸다.\n",
    "features[0]"
   ]
  },
  {
   "cell_type": "code",
   "execution_count": 14,
   "id": "acded880",
   "metadata": {},
   "outputs": [],
   "source": [
    "# Creating and using classifier\n",
    "classifier = nltk.NaiveBayesClassifier.train(features)"
   ]
  },
  {
   "cell_type": "code",
   "execution_count": 18,
   "id": "b96c2ae6",
   "metadata": {},
   "outputs": [
    {
     "name": "stdout",
     "output_type": "stream",
     "text": [
      " Negative 0.10747100603951773\n",
      " Positive 0.8925289939604821\n"
     ]
    }
   ],
   "source": [
    "# s = input() # sentence\n",
    "s = \"this was great\"\n",
    "# same structure with the above one but this one is for sentence 's'\n",
    "\n",
    "# word in extract_words(s) : extract all the words from sentence 's'\n",
    "feature = {word: (word in extract_words(s)) for word in words}\n",
    "result = classifier.prob_classify(feature)\n",
    "\n",
    "for key in result.samples():\n",
    "    print(key, result.prob(key))"
   ]
  },
  {
   "cell_type": "code",
   "execution_count": null,
   "id": "602c1573",
   "metadata": {},
   "outputs": [],
   "source": [
    "# \"this was great\"\n",
    "# Negative 0.10747100603951773: the probability of being negative is 10%\n",
    "# Positive 0.8925289939604821: the probability of being positive is 89%\n",
    "\n",
    "# You need to use the words that are in our dictionary."
   ]
  }
 ],
 "metadata": {
  "kernelspec": {
   "display_name": "Python 3 (ipykernel)",
   "language": "python",
   "name": "python3"
  },
  "language_info": {
   "codemirror_mode": {
    "name": "ipython",
    "version": 3
   },
   "file_extension": ".py",
   "mimetype": "text/x-python",
   "name": "python",
   "nbconvert_exporter": "python",
   "pygments_lexer": "ipython3",
   "version": "3.9.12"
  }
 },
 "nbformat": 4,
 "nbformat_minor": 5
}
