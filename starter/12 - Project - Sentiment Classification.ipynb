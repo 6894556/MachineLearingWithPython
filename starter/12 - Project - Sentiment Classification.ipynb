{
 "cells": [
  {
   "cell_type": "markdown",
   "id": "229fa4f2",
   "metadata": {},
   "source": [
    "# Project: Sentiment Classification\n",
    "- Make a model to determine whether a tweet positive or negative"
   ]
  },
  {
   "cell_type": "markdown",
   "id": "dd592d25",
   "metadata": {},
   "source": [
    "### Step 1: Import the libraries"
   ]
  },
  {
   "cell_type": "code",
   "execution_count": 1,
   "id": "fa9c4619",
   "metadata": {},
   "outputs": [],
   "source": [
    "# project description:\n",
    "\n",
    "# remove punctuatiions by string.punctuation\n",
    "# helper function: 직접 정의한 함수\n",
    "\n",
    "# step 10 : what words are actually classifying most\n",
    "#  if sth is positive or negative?\n",
    "#  e.g. \"love\", \"hate\" are strong words.\n",
    "\n",
    "# Please try it out by yourself. \n"
   ]
  },
  {
   "cell_type": "code",
   "execution_count": 51,
   "id": "75365bea",
   "metadata": {},
   "outputs": [],
   "source": [
    "import nltk\n",
    "import string\n",
    "from nltk.corpus import stopwords\n",
    "from nltk.stem.wordnet import WordNetLemmatizer\n",
    "from nltk.tag import pos_tag\n",
    "from random import shuffle\n",
    "from nltk import NaiveBayesClassifier\n",
    "from nltk import classify\n",
    "from nltk.sentiment import SentimentIntensityAnalyzer"
   ]
  },
  {
   "cell_type": "markdown",
   "id": "1c6e9000",
   "metadata": {},
   "source": [
    "### Step 2: Download the sample tweets\n",
    "- Execute the following cell"
   ]
  },
  {
   "cell_type": "code",
   "execution_count": 3,
   "id": "040c445d",
   "metadata": {},
   "outputs": [
    {
     "name": "stderr",
     "output_type": "stream",
     "text": [
      "[nltk_data] Downloading package twitter_samples to\n",
      "[nltk_data]     C:\\Users\\USER\\AppData\\Roaming\\nltk_data...\n",
      "[nltk_data]   Package twitter_samples is already up-to-date!\n",
      "[nltk_data] Downloading package averaged_perceptron_tagger to\n",
      "[nltk_data]     C:\\Users\\USER\\AppData\\Roaming\\nltk_data...\n",
      "[nltk_data]   Package averaged_perceptron_tagger is already up-to-\n",
      "[nltk_data]       date!\n",
      "[nltk_data] Downloading package wordnet to\n",
      "[nltk_data]     C:\\Users\\USER\\AppData\\Roaming\\nltk_data...\n",
      "[nltk_data]   Package wordnet is already up-to-date!\n",
      "[nltk_data] Downloading package stopwords to\n",
      "[nltk_data]     C:\\Users\\USER\\AppData\\Roaming\\nltk_data...\n",
      "[nltk_data]   Package stopwords is already up-to-date!\n",
      "[nltk_data] Downloading package punkt to\n",
      "[nltk_data]     C:\\Users\\USER\\AppData\\Roaming\\nltk_data...\n",
      "[nltk_data]   Package punkt is already up-to-date!\n",
      "[nltk_data] Downloading package omw-1.4 to\n",
      "[nltk_data]     C:\\Users\\USER\\AppData\\Roaming\\nltk_data...\n",
      "[nltk_data]   Package omw-1.4 is already up-to-date!\n"
     ]
    },
    {
     "data": {
      "text/plain": [
       "True"
      ]
     },
     "execution_count": 3,
     "metadata": {},
     "output_type": "execute_result"
    }
   ],
   "source": [
    "nltk.download('twitter_samples')\n",
    "nltk.download('averaged_perceptron_tagger')\n",
    "nltk.download('wordnet')\n",
    "nltk.download('stopwords')\n",
    "nltk.download('punkt')\n",
    "nltk.download('omw-1.4')"
   ]
  },
  {
   "cell_type": "markdown",
   "id": "feccae3b",
   "metadata": {},
   "source": [
    "### Step 3: The tweets\n",
    "- Get the positive and negative tweets.\n",
    "    - HINT: You access the positive tweets by: **nltk.corpus.twitter_samples.strings('positive_tweets.json')**\n",
    "    - HINT: Similarly for the negative tweets.\n",
    "- Notice: There is also tweets with no sentiment - we will ignore them in this project\n",
    "- Check a few tweets"
   ]
  },
  {
   "cell_type": "code",
   "execution_count": 4,
   "id": "a5007af4",
   "metadata": {},
   "outputs": [],
   "source": [
    "positive_tweets = nltk.corpus.twitter_samples.strings(\"positive_tweets.json\")\n",
    "negative_tweets = nltk.corpus.twitter_samples.strings(\"negative_tweets.json\")"
   ]
  },
  {
   "cell_type": "code",
   "execution_count": 5,
   "id": "ceb8add7",
   "metadata": {},
   "outputs": [
    {
     "data": {
      "text/plain": [
       "'#FollowFriday @France_Inte @PKuchly57 @Milipol_Paris for being top engaged members in my community this week :)'"
      ]
     },
     "execution_count": 5,
     "metadata": {},
     "output_type": "execute_result"
    }
   ],
   "source": [
    "positive_tweets[0]"
   ]
  },
  {
   "cell_type": "markdown",
   "id": "fac2b506",
   "metadata": {},
   "source": [
    "### Step 4: Tokenize the tweets\n",
    "- You get the tokenized tweets as follows:\n",
    "    - **nltk.corpus.twitter_samples.tokenized('positive_tweets.json')**\n",
    "    - Simlarly for **negative_tweets**\n",
    "- Why tokenize?\n",
    "    - To make processing easier\n",
    "- Check a few tweets (tokenized)"
   ]
  },
  {
   "cell_type": "code",
   "execution_count": 6,
   "id": "639774ca",
   "metadata": {},
   "outputs": [],
   "source": [
    "tokenized_positive = nltk.corpus.twitter_samples.tokenized(\"positive_tweets.json\")\n",
    "tokenized_negative = nltk.corpus.twitter_samples.tokenized(\"negative_tweets.json\")"
   ]
  },
  {
   "cell_type": "code",
   "execution_count": 7,
   "id": "04e5578c",
   "metadata": {},
   "outputs": [
    {
     "data": {
      "text/plain": [
       "[['#FollowFriday',\n",
       "  '@France_Inte',\n",
       "  '@PKuchly57',\n",
       "  '@Milipol_Paris',\n",
       "  'for',\n",
       "  'being',\n",
       "  'top',\n",
       "  'engaged',\n",
       "  'members',\n",
       "  'in',\n",
       "  'my',\n",
       "  'community',\n",
       "  'this',\n",
       "  'week',\n",
       "  ':)'],\n",
       " ['@Lamb2ja',\n",
       "  'Hey',\n",
       "  'James',\n",
       "  '!',\n",
       "  'How',\n",
       "  'odd',\n",
       "  ':/',\n",
       "  'Please',\n",
       "  'call',\n",
       "  'our',\n",
       "  'Contact',\n",
       "  'Centre',\n",
       "  'on',\n",
       "  '02392441234',\n",
       "  'and',\n",
       "  'we',\n",
       "  'will',\n",
       "  'be',\n",
       "  'able',\n",
       "  'to',\n",
       "  'assist',\n",
       "  'you',\n",
       "  ':)',\n",
       "  'Many',\n",
       "  'thanks',\n",
       "  '!']]"
      ]
     },
     "execution_count": 7,
     "metadata": {},
     "output_type": "execute_result"
    }
   ],
   "source": [
    "tokenized_positive[:2]"
   ]
  },
  {
   "cell_type": "markdown",
   "id": "cce77587",
   "metadata": {},
   "source": [
    "### Step 5: Remove noise from data\n",
    "- The following tokens do not add value in our analysis\n",
    "    - Twitter usernames (starting with @)\n",
    "    - Hyperlinks (starting with http:// or https://)\n",
    "    - Punctuation and special characters\n",
    "        - HINT: if word in **string.punctuation**\n",
    "    - Numeric values only\n",
    "        - HINT: use **.isnumeric()**\n",
    "    - If word is a stopword ([wiki](https://en.wikipedia.org/wiki/Stop_word))\n",
    "        - HINT: Check if lower case word is in **stopwords.words('english')**\n",
    "- To simplify createa a helper function **is_clean** to check for the above\n",
    "- Create another helper function **clean_tokens**\n",
    "    - The function takes **tokens** (a list of tokens) as input\n",
    "    - Then returns a list of tokens, where **is_clean** has been used to filter\n",
    "    - Also, let's lowercase it all\n",
    "        - HINT: Use **lower()**\n",
    "- Finally, use list comprehension on the lists of positive and negative tweets where **clean_tokens** is applied on each element (tokens)."
   ]
  },
  {
   "cell_type": "code",
   "execution_count": 25,
   "id": "3162ad74",
   "metadata": {},
   "outputs": [],
   "source": [
    "def is_clean(word:str):\n",
    "    if word in string.punctuation:\n",
    "        return False\n",
    "    if word.isnumeric():\n",
    "        return False\n",
    "    if word in stopwords.words(\"english\"):\n",
    "        return False \n",
    "    \n",
    "    # Additional\n",
    "    if word.startswith('@'):\n",
    "        return False\n",
    "    if word.startswith(\"http://\") or word.startswith(\"https://\"):\n",
    "        return False\n",
    "    \n",
    "    \n",
    "    return True"
   ]
  },
  {
   "cell_type": "code",
   "execution_count": 9,
   "id": "a5d52149",
   "metadata": {},
   "outputs": [],
   "source": [
    "def clean_tokens(tokens:list):\n",
    "    return [word.lower() for word in tokens if is_clean(word)]"
   ]
  },
  {
   "cell_type": "code",
   "execution_count": 12,
   "id": "a358a2f7",
   "metadata": {},
   "outputs": [],
   "source": [
    "cleaned_positive = [clean_tokens(tokens) for tokens in tokenized_positive]\n",
    "cleaned_negative = [clean_tokens(tokens) for tokens in tokenized_negative]"
   ]
  },
  {
   "cell_type": "code",
   "execution_count": 13,
   "id": "a420ae12",
   "metadata": {
    "scrolled": true
   },
   "outputs": [
    {
     "data": {
      "text/plain": [
       "['#followfriday',\n",
       " '@france_inte',\n",
       " '@pkuchly57',\n",
       " '@milipol_paris',\n",
       " 'top',\n",
       " 'engaged',\n",
       " 'members',\n",
       " 'community',\n",
       " 'week',\n",
       " ':)']"
      ]
     },
     "execution_count": 13,
     "metadata": {},
     "output_type": "execute_result"
    }
   ],
   "source": [
    "cleaned_positive[0]"
   ]
  },
  {
   "cell_type": "code",
   "execution_count": 14,
   "id": "d5418b60",
   "metadata": {},
   "outputs": [
    {
     "data": {
      "text/plain": [
       "['hopeless', 'tmr', ':(']"
      ]
     },
     "execution_count": 14,
     "metadata": {},
     "output_type": "execute_result"
    }
   ],
   "source": [
    "cleaned_negative[0]"
   ]
  },
  {
   "cell_type": "markdown",
   "id": "84a5141e",
   "metadata": {},
   "source": [
    "### Step 6: Normalize the data\n",
    "- The process of converting a word to its canonical form.\n",
    "- Without normalization, “ran”, “runs”, and “running” would be treated as different words.\n",
    "- Create a lemmatizer of **WordNetLemmatizer()**\n",
    "    - HINT: use **lemmatizer = WordNetLemmatizer()**\n",
    "- Create a helper function to lemmatize\n",
    "    - HINT: Create a helper function **lemmatize(word, tag)**\n",
    "        - Convert tag to **n** or **v** if tag starts with **NN** or **VB**, else **a**\n",
    "        - Return **lemmatizer.lemmatize(word, tag)**\n",
    "- Create a helper function **lemmatize_tokens(tokens: list)**\n",
    "    - Return a list, where each element of **word, tag in pos_tag(...)** of **lemmatize(word, tag)**.\n",
    "- Use list comprehension to normalize the positive and negative tweets\n",
    "    - HINT: apply **lemmatize_tokens(...)** on all elements"
   ]
  },
  {
   "cell_type": "code",
   "execution_count": 26,
   "id": "a6456e96",
   "metadata": {},
   "outputs": [],
   "source": [
    "lemmatizer = WordNetLemmatizer()\n",
    "\n",
    "def lemmatize(word, tag):\n",
    "    if tag.startswith(\"NN\"):\n",
    "        pos = 'n'\n",
    "    if tag.startswith(\"VB\"):\n",
    "        pos = 'v'\n",
    "    else:\n",
    "        pos = 'a'\n",
    "\n",
    "    return lemmatizer.lemmatize(word, pos)"
   ]
  },
  {
   "cell_type": "code",
   "execution_count": 27,
   "id": "fead7672",
   "metadata": {},
   "outputs": [],
   "source": [
    "def lemmatize_tokens(tokens:list):\n",
    "    return [lemmatize(word, tag) for word, tag in pos_tag(tokens)]"
   ]
  },
  {
   "cell_type": "markdown",
   "id": "85c74600",
   "metadata": {},
   "source": [
    "KeyError: 'JJ'"
   ]
  },
  {
   "cell_type": "code",
   "execution_count": 29,
   "id": "31869400",
   "metadata": {},
   "outputs": [],
   "source": [
    "normalized_positive = [lemmatize_tokens(tokens) for tokens in cleaned_positive]\n",
    "normalized_negative = [lemmatize_tokens(tokens) for tokens in cleaned_negative]"
   ]
  },
  {
   "cell_type": "code",
   "execution_count": 32,
   "id": "53f89fd4",
   "metadata": {},
   "outputs": [
    {
     "data": {
      "text/plain": [
       "['#followfriday',\n",
       " '@france_inte',\n",
       " '@pkuchly57',\n",
       " '@milipol_paris',\n",
       " 'top',\n",
       " 'engage',\n",
       " 'members',\n",
       " 'community',\n",
       " 'week',\n",
       " ':)']"
      ]
     },
     "execution_count": 32,
     "metadata": {},
     "output_type": "execute_result"
    }
   ],
   "source": [
    "normalized_positive[0]"
   ]
  },
  {
   "cell_type": "code",
   "execution_count": 33,
   "id": "61f36ed9",
   "metadata": {},
   "outputs": [
    {
     "data": {
      "text/plain": [
       "['hopeless', 'tmr', ':(']"
      ]
     },
     "execution_count": 33,
     "metadata": {},
     "output_type": "execute_result"
    }
   ],
   "source": [
    "normalized_negative[0]"
   ]
  },
  {
   "cell_type": "markdown",
   "id": "4ef7fc28",
   "metadata": {},
   "source": [
    "### Step 7: Prepare data for Model\n",
    "- Example of normalized tweet: **['hopeless', 'tmr', ':(']**\n",
    "    - Should become **({'hopeless': True, 'tmr': True, ':(': True}, 'Negative')**\n",
    "- Hence, the list of tweets (positive and negative) should be converted\n",
    "- HINT: use a dict comprehension inside a list comprehension"
   ]
  },
  {
   "cell_type": "code",
   "execution_count": 35,
   "id": "5a24bd71",
   "metadata": {},
   "outputs": [],
   "source": [
    "positive_ds = [({token: True for token in tokens}, \"Positive\")for tokens in normalized_positive]\n",
    "negative_ds = [({token: True for token in tokens}, \"Negative\")for tokens in normalized_negative]"
   ]
  },
  {
   "cell_type": "code",
   "execution_count": 36,
   "id": "81216011",
   "metadata": {},
   "outputs": [
    {
     "data": {
      "text/plain": [
       "({'#followfriday': True,\n",
       "  '@france_inte': True,\n",
       "  '@pkuchly57': True,\n",
       "  '@milipol_paris': True,\n",
       "  'top': True,\n",
       "  'engage': True,\n",
       "  'members': True,\n",
       "  'community': True,\n",
       "  'week': True,\n",
       "  ':)': True},\n",
       " 'Positive')"
      ]
     },
     "execution_count": 36,
     "metadata": {},
     "output_type": "execute_result"
    }
   ],
   "source": [
    "positive_ds[0]"
   ]
  },
  {
   "cell_type": "code",
   "execution_count": 37,
   "id": "c6706ec9",
   "metadata": {},
   "outputs": [
    {
     "data": {
      "text/plain": [
       "({'hopeless': True, 'tmr': True, ':(': True}, 'Negative')"
      ]
     },
     "execution_count": 37,
     "metadata": {},
     "output_type": "execute_result"
    }
   ],
   "source": [
    "negative_ds[0]"
   ]
  },
  {
   "cell_type": "markdown",
   "id": "fdb20c6b",
   "metadata": {},
   "source": [
    "### Step 8: Prepare training and test dataset\n",
    "- Make the dataset of the combined positive and negative datasets\n",
    "- Shuffle the dataset\n",
    "    - Use **shuffle**\n",
    "- Let the training dataset be the first 7000 entries\n",
    "- Let the test dataset be the remaining entries"
   ]
  },
  {
   "cell_type": "code",
   "execution_count": 39,
   "id": "f6ce1c45",
   "metadata": {},
   "outputs": [],
   "source": [
    "dataset = positive_ds + negative_ds\n",
    "shuffle(dataset)"
   ]
  },
  {
   "cell_type": "code",
   "execution_count": 40,
   "id": "5f0dd8dc",
   "metadata": {},
   "outputs": [],
   "source": [
    "train_ds = dataset[:7000]\n",
    "test_ds = dataset[7000:]"
   ]
  },
  {
   "cell_type": "markdown",
   "id": "a776bf28",
   "metadata": {},
   "source": [
    "### Step 9: Train and test Model\n",
    "- Train the model:\n",
    "    - HINT: **classifier = NaiveBayesClassifier.train(train_data)**\n",
    "- Test the accuracy\n",
    "    - HINT: **classify.accuracy(classifier, test_data)**"
   ]
  },
  {
   "cell_type": "code",
   "execution_count": 46,
   "id": "715f5e8d",
   "metadata": {},
   "outputs": [],
   "source": [
    "classifier = NaiveBayesClassifier.train(train_ds)"
   ]
  },
  {
   "cell_type": "code",
   "execution_count": 47,
   "id": "914bb922",
   "metadata": {},
   "outputs": [
    {
     "data": {
      "text/plain": [
       "0.9946666666666667"
      ]
     },
     "execution_count": 47,
     "metadata": {},
     "output_type": "execute_result"
    }
   ],
   "source": [
    "classify.accuracy(classifier, test_ds)"
   ]
  },
  {
   "cell_type": "markdown",
   "id": "d8b47f6d",
   "metadata": {},
   "source": [
    "### Step 10: Show the most informative features\n",
    "- HINT: Get the 10 most informative features: **classifier.show_most_informative_features(10)**"
   ]
  },
  {
   "cell_type": "code",
   "execution_count": 48,
   "id": "26047020",
   "metadata": {},
   "outputs": [
    {
     "name": "stdout",
     "output_type": "stream",
     "text": [
      "Most Informative Features\n",
      "                      :) = True           Positi : Negati =   1671.3 : 1.0\n",
      "                     sad = True           Negati : Positi =     23.0 : 1.0\n",
      "                  arrive = True           Positi : Negati =     21.4 : 1.0\n",
      "                 welcome = True           Positi : Negati =     17.8 : 1.0\n",
      "               followers = True           Positi : Negati =     16.3 : 1.0\n",
      "                    glad = True           Positi : Negati =     15.7 : 1.0\n",
      "               community = True           Positi : Negati =     15.0 : 1.0\n",
      "                     too = True           Negati : Positi =     13.8 : 1.0\n",
      "                  excite = True           Positi : Negati =     13.0 : 1.0\n",
      "                  you're = True           Positi : Negati =     13.0 : 1.0\n"
     ]
    }
   ],
   "source": [
    "classifier.show_most_informative_features(10)"
   ]
  },
  {
   "cell_type": "code",
   "execution_count": null,
   "id": "eec0f64a",
   "metadata": {},
   "outputs": [],
   "source": []
  },
  {
   "cell_type": "markdown",
   "id": "9087a7d5",
   "metadata": {},
   "source": [
    "### Step 11: Test the model\n",
    "- Try your model as follows:\n",
    "    - Define a tweet: **tweet = 'this is fun and awesome'**\n",
    "    - Prepare data for model: **tweet_dict = {token: True for token in lemmatize_tokens(clean_tokens(tweet.split()))}**\n",
    "    - Classify data: **classifier.classify(tweet_dict)**"
   ]
  },
  {
   "cell_type": "code",
   "execution_count": 49,
   "id": "d0963f44",
   "metadata": {},
   "outputs": [],
   "source": [
    "tweet = \"this is fun and awesome\"\n",
    "tweet_dict = {token: True for token in lemmatize_tokens(clean_tokens(tweet.split()))}"
   ]
  },
  {
   "cell_type": "code",
   "execution_count": 50,
   "id": "ae9c7735",
   "metadata": {},
   "outputs": [
    {
     "data": {
      "text/plain": [
       "'Positive'"
      ]
     },
     "execution_count": 50,
     "metadata": {},
     "output_type": "execute_result"
    }
   ],
   "source": [
    "classifier.classify(tweet_dict)"
   ]
  },
  {
   "cell_type": "markdown",
   "id": "46b1dd34",
   "metadata": {},
   "source": [
    "### Bonus: The pre-trained Sentiment Intensity Analyzer\n",
    "-  VADER (Valence Aware Dictionary and sEntiment Reasoner) ([Vader](https://www.nltk.org/howto/sentiment.html))"
   ]
  },
  {
   "cell_type": "code",
   "execution_count": 52,
   "id": "dea3e699",
   "metadata": {},
   "outputs": [
    {
     "name": "stderr",
     "output_type": "stream",
     "text": [
      "[nltk_data] Downloading package vader_lexicon to\n",
      "[nltk_data]     C:\\Users\\USER\\AppData\\Roaming\\nltk_data...\n"
     ]
    },
    {
     "data": {
      "text/plain": [
       "True"
      ]
     },
     "execution_count": 52,
     "metadata": {},
     "output_type": "execute_result"
    }
   ],
   "source": [
    "nltk.download(\"vader_lexicon\")"
   ]
  },
  {
   "cell_type": "code",
   "execution_count": 53,
   "id": "b6f02b3f",
   "metadata": {},
   "outputs": [],
   "source": [
    "sia = SentimentIntensityAnalyzer()"
   ]
  },
  {
   "cell_type": "code",
   "execution_count": 54,
   "id": "37614657",
   "metadata": {},
   "outputs": [
    {
     "data": {
      "text/plain": [
       "{'neg': 0.0, 'neu': 0.288, 'pos': 0.712, 'compound': 0.8126}"
      ]
     },
     "execution_count": 54,
     "metadata": {},
     "output_type": "execute_result"
    }
   ],
   "source": [
    "sia.polarity_scores(\"this is fun and awesome\")"
   ]
  },
  {
   "cell_type": "code",
   "execution_count": null,
   "id": "dbfe4962",
   "metadata": {},
   "outputs": [],
   "source": []
  }
 ],
 "metadata": {
  "kernelspec": {
   "display_name": "Python 3 (ipykernel)",
   "language": "python",
   "name": "python3"
  },
  "language_info": {
   "codemirror_mode": {
    "name": "ipython",
    "version": 3
   },
   "file_extension": ".py",
   "mimetype": "text/x-python",
   "name": "python",
   "nbconvert_exporter": "python",
   "pygments_lexer": "ipython3",
   "version": "3.9.12"
  }
 },
 "nbformat": 4,
 "nbformat_minor": 5
}
