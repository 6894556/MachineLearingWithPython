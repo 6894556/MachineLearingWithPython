{
 "cells": [
  {
   "cell_type": "markdown",
   "id": "5ea243b8",
   "metadata": {},
   "source": [
    "# Project: Deep Neural Network\n",
    "- Identify false banknotes"
   ]
  },
  {
   "cell_type": "markdown",
   "id": "fbc0d19b",
   "metadata": {},
   "source": [
    "### Step 1: Import libraries"
   ]
  },
  {
   "cell_type": "code",
   "execution_count": 1,
   "id": "c5817679",
   "metadata": {},
   "outputs": [],
   "source": [
    "# dont worry about failing or not being able to figure it out.\n",
    "# its not faling. its learning.\n",
    "# this is where you learn the most.\n",
    "\n",
    "# where I didnt figure it out immediately\n",
    "# those were the I learned the most. \n",
    "import pandas as pd\n",
    "import numpy as np\n",
    "import tensorflow as tf\n",
    "import matplotlib.pyplot as plt\n",
    "%matplotlib inline"
   ]
  },
  {
   "cell_type": "code",
   "execution_count": 2,
   "id": "7c4976b9",
   "metadata": {},
   "outputs": [],
   "source": [
    "from sklearn.model_selection import train_test_split\n",
    "from tensorflow.keras.models import Sequential\n",
    "from tensorflow.keras.layers import Dense"
   ]
  },
  {
   "cell_type": "markdown",
   "id": "50b057d4",
   "metadata": {},
   "source": [
    "### Step 2: Read the data\n",
    "- Use Pandas [read_csv](https://pandas.pydata.org/pandas-docs/stable/reference/api/pandas.read_csv.html) method to read **files/banknotes.csv**"
   ]
  },
  {
   "cell_type": "code",
   "execution_count": 3,
   "id": "8993f69c",
   "metadata": {},
   "outputs": [
    {
     "name": "stdout",
     "output_type": "stream",
     "text": [
      "<class 'pandas.core.frame.DataFrame'>\n",
      "RangeIndex: 1372 entries, 0 to 1371\n",
      "Data columns (total 5 columns):\n",
      " #   Column    Non-Null Count  Dtype  \n",
      "---  ------    --------------  -----  \n",
      " 0   variance  1372 non-null   float64\n",
      " 1   skewness  1372 non-null   float64\n",
      " 2   curtosis  1372 non-null   float64\n",
      " 3   entropy   1372 non-null   float64\n",
      " 4   class     1372 non-null   int64  \n",
      "dtypes: float64(4), int64(1)\n",
      "memory usage: 53.7 KB\n"
     ]
    }
   ],
   "source": [
    "data = pd.read_csv('files/banknotes.csv')\n",
    "#data.head()\n",
    "data.info()"
   ]
  },
  {
   "cell_type": "code",
   "execution_count": null,
   "id": "899bbd23",
   "metadata": {},
   "outputs": [],
   "source": []
  },
  {
   "cell_type": "markdown",
   "id": "44ed20c2",
   "metadata": {},
   "source": [
    "### Step 3: Investitigate the data\n",
    "- Check how many classes (class)\n",
    "    - HINT: use [unique()](https://pandas.pydata.org/docs/reference/api/pandas.unique.html)\n",
    "- Check for missing data\n",
    "    - HINT: use [isna()](https://pandas.pydata.org/docs/reference/api/pandas.DataFrame.isna.html)[.sum()](https://pandas.pydata.org/docs/reference/api/pandas.DataFrame.sum.html)"
   ]
  },
  {
   "cell_type": "code",
   "execution_count": 4,
   "id": "a734a393",
   "metadata": {},
   "outputs": [
    {
     "data": {
      "text/plain": [
       "array([1, 0], dtype=int64)"
      ]
     },
     "execution_count": 4,
     "metadata": {},
     "output_type": "execute_result"
    }
   ],
   "source": [
    "data['class'].unique() # how many classes are there?"
   ]
  },
  {
   "cell_type": "code",
   "execution_count": null,
   "id": "32701452",
   "metadata": {},
   "outputs": [],
   "source": []
  },
  {
   "cell_type": "markdown",
   "id": "a9db20eb",
   "metadata": {},
   "source": [
    "### Step 4: Divide data into feature vectors and labels\n",
    "- Assign the feature vectors to $X$\n",
    "    - HINT: that is all but the last column of the data\n",
    "- Assign the labels to $y$\n",
    "    - HINT: that is the last column (**class**)"
   ]
  },
  {
   "cell_type": "code",
   "execution_count": 5,
   "id": "31cb7d7b",
   "metadata": {},
   "outputs": [
    {
     "data": {
      "text/html": [
       "<div>\n",
       "<style scoped>\n",
       "    .dataframe tbody tr th:only-of-type {\n",
       "        vertical-align: middle;\n",
       "    }\n",
       "\n",
       "    .dataframe tbody tr th {\n",
       "        vertical-align: top;\n",
       "    }\n",
       "\n",
       "    .dataframe thead th {\n",
       "        text-align: right;\n",
       "    }\n",
       "</style>\n",
       "<table border=\"1\" class=\"dataframe\">\n",
       "  <thead>\n",
       "    <tr style=\"text-align: right;\">\n",
       "      <th></th>\n",
       "      <th>variance</th>\n",
       "      <th>skewness</th>\n",
       "      <th>curtosis</th>\n",
       "      <th>entropy</th>\n",
       "    </tr>\n",
       "  </thead>\n",
       "  <tbody>\n",
       "    <tr>\n",
       "      <th>0</th>\n",
       "      <td>-0.895690</td>\n",
       "      <td>3.00250</td>\n",
       "      <td>-3.606700</td>\n",
       "      <td>-3.44570</td>\n",
       "    </tr>\n",
       "    <tr>\n",
       "      <th>1</th>\n",
       "      <td>3.476900</td>\n",
       "      <td>-0.15314</td>\n",
       "      <td>2.530000</td>\n",
       "      <td>2.44950</td>\n",
       "    </tr>\n",
       "    <tr>\n",
       "      <th>2</th>\n",
       "      <td>3.910200</td>\n",
       "      <td>6.06500</td>\n",
       "      <td>-2.453400</td>\n",
       "      <td>-0.68234</td>\n",
       "    </tr>\n",
       "    <tr>\n",
       "      <th>3</th>\n",
       "      <td>0.607310</td>\n",
       "      <td>3.95440</td>\n",
       "      <td>-4.772000</td>\n",
       "      <td>-4.48530</td>\n",
       "    </tr>\n",
       "    <tr>\n",
       "      <th>4</th>\n",
       "      <td>2.371800</td>\n",
       "      <td>7.49080</td>\n",
       "      <td>0.015989</td>\n",
       "      <td>-1.74140</td>\n",
       "    </tr>\n",
       "    <tr>\n",
       "      <th>...</th>\n",
       "      <td>...</td>\n",
       "      <td>...</td>\n",
       "      <td>...</td>\n",
       "      <td>...</td>\n",
       "    </tr>\n",
       "    <tr>\n",
       "      <th>1367</th>\n",
       "      <td>-2.967200</td>\n",
       "      <td>-13.28690</td>\n",
       "      <td>13.472700</td>\n",
       "      <td>-2.62710</td>\n",
       "    </tr>\n",
       "    <tr>\n",
       "      <th>1368</th>\n",
       "      <td>0.318030</td>\n",
       "      <td>-0.99326</td>\n",
       "      <td>1.094700</td>\n",
       "      <td>0.88619</td>\n",
       "    </tr>\n",
       "    <tr>\n",
       "      <th>1369</th>\n",
       "      <td>-0.025314</td>\n",
       "      <td>-0.17383</td>\n",
       "      <td>-0.113390</td>\n",
       "      <td>1.21980</td>\n",
       "    </tr>\n",
       "    <tr>\n",
       "      <th>1370</th>\n",
       "      <td>-2.234000</td>\n",
       "      <td>-7.03140</td>\n",
       "      <td>7.493600</td>\n",
       "      <td>0.61334</td>\n",
       "    </tr>\n",
       "    <tr>\n",
       "      <th>1371</th>\n",
       "      <td>4.728500</td>\n",
       "      <td>2.10650</td>\n",
       "      <td>-0.283050</td>\n",
       "      <td>1.56250</td>\n",
       "    </tr>\n",
       "  </tbody>\n",
       "</table>\n",
       "<p>1372 rows × 4 columns</p>\n",
       "</div>"
      ],
      "text/plain": [
       "      variance  skewness   curtosis  entropy\n",
       "0    -0.895690   3.00250  -3.606700 -3.44570\n",
       "1     3.476900  -0.15314   2.530000  2.44950\n",
       "2     3.910200   6.06500  -2.453400 -0.68234\n",
       "3     0.607310   3.95440  -4.772000 -4.48530\n",
       "4     2.371800   7.49080   0.015989 -1.74140\n",
       "...        ...       ...        ...      ...\n",
       "1367 -2.967200 -13.28690  13.472700 -2.62710\n",
       "1368  0.318030  -0.99326   1.094700  0.88619\n",
       "1369 -0.025314  -0.17383  -0.113390  1.21980\n",
       "1370 -2.234000  -7.03140   7.493600  0.61334\n",
       "1371  4.728500   2.10650  -0.283050  1.56250\n",
       "\n",
       "[1372 rows x 4 columns]"
      ]
     },
     "execution_count": 5,
     "metadata": {},
     "output_type": "execute_result"
    }
   ],
   "source": [
    "X = data.loc[:, :'entropy']\n",
    "X"
   ]
  },
  {
   "cell_type": "code",
   "execution_count": 6,
   "id": "b0ab73dd",
   "metadata": {},
   "outputs": [
    {
     "data": {
      "text/plain": [
       "0       1\n",
       "1       0\n",
       "2       0\n",
       "3       1\n",
       "4       0\n",
       "       ..\n",
       "1367    1\n",
       "1368    1\n",
       "1369    1\n",
       "1370    1\n",
       "1371    0\n",
       "Name: class, Length: 1372, dtype: int64"
      ]
     },
     "execution_count": 6,
     "metadata": {},
     "output_type": "execute_result"
    }
   ],
   "source": [
    "y = data.loc[:, 'class']\n",
    "y"
   ]
  },
  {
   "cell_type": "markdown",
   "id": "5c768c6c",
   "metadata": {},
   "source": [
    "### Step 5: Create training and test datasets\n",
    "- Split $X$ and $y$ into train and test sets using **train_test_split** with **test_size=.4**"
   ]
  },
  {
   "cell_type": "code",
   "execution_count": 7,
   "id": "fad22e8c",
   "metadata": {},
   "outputs": [],
   "source": [
    "X_train, X_valid, y_train, y_valid = train_test_split(X, y, test_size=.4)"
   ]
  },
  {
   "cell_type": "code",
   "execution_count": null,
   "id": "d80ba49a",
   "metadata": {},
   "outputs": [],
   "source": []
  },
  {
   "cell_type": "markdown",
   "id": "aaf02924",
   "metadata": {},
   "source": [
    "### Step 6: Create and compile the model\n",
    "- Create a **Sequential** model\n",
    "    - **Dense** with 8 nodes with **input_dim=4, activaition='relu'**\n",
    "    - **Dense** with 1 (the output node) with **activaition='sigmoid'**\n",
    "- Complie the model with **optimizer='adam', loss='binary_crossentropy', metrics=['accuracy']**"
   ]
  },
  {
   "cell_type": "code",
   "execution_count": 8,
   "id": "7299cd7d",
   "metadata": {},
   "outputs": [],
   "source": [
    "tf.random.set_seed(4)"
   ]
  },
  {
   "cell_type": "code",
   "execution_count": 9,
   "id": "590e7fb9",
   "metadata": {},
   "outputs": [
    {
     "name": "stdout",
     "output_type": "stream",
     "text": [
      "Model: \"sequential\"\n",
      "_________________________________________________________________\n",
      " Layer (type)                Output Shape              Param #   \n",
      "=================================================================\n",
      " dense (Dense)               (None, 8)                 40        \n",
      "                                                                 \n",
      " dense_1 (Dense)             (None, 1)                 9         \n",
      "                                                                 \n",
      "=================================================================\n",
      "Total params: 49\n",
      "Trainable params: 49\n",
      "Non-trainable params: 0\n",
      "_________________________________________________________________\n"
     ]
    }
   ],
   "source": [
    "model = Sequential()\n",
    "model.add(Dense(8, input_dim=4, activation='relu'))\n",
    "model.add(Dense(1, activation='sigmoid'))\n",
    "model.summary()"
   ]
  },
  {
   "cell_type": "code",
   "execution_count": 10,
   "id": "d1b0b981",
   "metadata": {},
   "outputs": [],
   "source": [
    "model.compile(optimizer='adam', loss='binary_crossentropy', metrics=['accuracy'])"
   ]
  },
  {
   "cell_type": "markdown",
   "id": "d7d9ac1a",
   "metadata": {},
   "source": [
    "### Step 7: Fit and test the accuracy\n",
    "- Fit the model on training data with **epochs=20**\n",
    "- Evaluate the model with test data with **verbose=2**"
   ]
  },
  {
   "cell_type": "code",
   "execution_count": 11,
   "id": "ea826758",
   "metadata": {},
   "outputs": [
    {
     "data": {
      "text/plain": [
       "<keras.callbacks.History at 0x1b4a9e37970>"
      ]
     },
     "execution_count": 11,
     "metadata": {},
     "output_type": "execute_result"
    }
   ],
   "source": [
    "model.fit(X_train, y_train, epochs=20, verbose=0)"
   ]
  },
  {
   "cell_type": "code",
   "execution_count": 12,
   "id": "a8a0fd71",
   "metadata": {},
   "outputs": [
    {
     "name": "stdout",
     "output_type": "stream",
     "text": [
      "18/18 - 0s - loss: 0.2275 - accuracy: 0.9180 - 122ms/epoch - 7ms/step\n"
     ]
    },
    {
     "data": {
      "text/plain": [
       "0.9180327653884888"
      ]
     },
     "execution_count": 12,
     "metadata": {},
     "output_type": "execute_result"
    }
   ],
   "source": [
    "_, accuracy1 = model.evaluate(X_valid, y_valid, verbose=2)\n",
    "accuracy1"
   ]
  },
  {
   "cell_type": "markdown",
   "id": "12ee1716",
   "metadata": {},
   "source": [
    "### Step 8 (Optional): Add another hidden layer\n",
    "- Add another hidden layer in the model\n",
    "- Test performance"
   ]
  },
  {
   "cell_type": "code",
   "execution_count": 13,
   "id": "e079a7cb",
   "metadata": {},
   "outputs": [
    {
     "name": "stdout",
     "output_type": "stream",
     "text": [
      "Model: \"sequential_1\"\n",
      "_________________________________________________________________\n",
      " Layer (type)                Output Shape              Param #   \n",
      "=================================================================\n",
      " dense_2 (Dense)             (None, 8)                 40        \n",
      "                                                                 \n",
      " dense_3 (Dense)             (None, 2)                 18        \n",
      "                                                                 \n",
      " dense_4 (Dense)             (None, 1)                 3         \n",
      "                                                                 \n",
      "=================================================================\n",
      "Total params: 61\n",
      "Trainable params: 61\n",
      "Non-trainable params: 0\n",
      "_________________________________________________________________\n"
     ]
    }
   ],
   "source": [
    "model = Sequential()\n",
    "model.add(Dense(8, input_dim=4, activation='relu'))\n",
    "# hidden layer에는 input_dim을 정하지 않는 정확한 이유에 대한 정리가 필요.\n",
    "# another hidden layer\n",
    "model.add(Dense(2, activation='relu'))\n",
    "model.add(Dense(1, activation='sigmoid')) # binary classification\n",
    "model.summary()"
   ]
  },
  {
   "cell_type": "code",
   "execution_count": 14,
   "id": "015a1901",
   "metadata": {},
   "outputs": [],
   "source": [
    "model.compile(optimizer='adam', loss='binary_crossentropy', metrics=['accuracy'])"
   ]
  },
  {
   "cell_type": "code",
   "execution_count": 15,
   "id": "247a6475",
   "metadata": {},
   "outputs": [
    {
     "data": {
      "text/plain": [
       "<keras.callbacks.History at 0x1b4ab55b1f0>"
      ]
     },
     "execution_count": 15,
     "metadata": {},
     "output_type": "execute_result"
    }
   ],
   "source": [
    "model.fit(X_train, y_train, epochs=20, verbose=0)"
   ]
  },
  {
   "cell_type": "code",
   "execution_count": 16,
   "id": "6dbc198d",
   "metadata": {},
   "outputs": [
    {
     "name": "stdout",
     "output_type": "stream",
     "text": [
      "18/18 - 0s - loss: 0.2044 - accuracy: 0.9854 - 106ms/epoch - 6ms/step\n"
     ]
    },
    {
     "data": {
      "text/plain": [
       "0.9854280352592468"
      ]
     },
     "execution_count": 16,
     "metadata": {},
     "output_type": "execute_result"
    }
   ],
   "source": [
    "_, accuracy2 = model.evaluate(X_valid, y_valid, verbose=2)\n",
    "accuracy2"
   ]
  },
  {
   "cell_type": "code",
   "execution_count": 17,
   "id": "2f8bdfa7",
   "metadata": {},
   "outputs": [],
   "source": [
    "# accuracy without additional hidden layer: 0.9890710115432739\n",
    "# accuracy with additional hidden layer: 0.9854280352592468\n",
    "# hl이 있든 없든 performance는 비슷하다\n",
    "\n",
    "\n",
    "# acc가 1.0이 나올 수 있는 이유:\n",
    "# csv의 column들을 찾아내기까지 오래 걸렸다."
   ]
  }
 ],
 "metadata": {
  "kernelspec": {
   "display_name": "Python 3 (ipykernel)",
   "language": "python",
   "name": "python3"
  },
  "language_info": {
   "codemirror_mode": {
    "name": "ipython",
    "version": 3
   },
   "file_extension": ".py",
   "mimetype": "text/x-python",
   "name": "python",
   "nbconvert_exporter": "python",
   "pygments_lexer": "ipython3",
   "version": "3.9.12"
  }
 },
 "nbformat": 4,
 "nbformat_minor": 5
}
