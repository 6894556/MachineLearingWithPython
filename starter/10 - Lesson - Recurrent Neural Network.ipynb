{
 "cells": [
  {
   "cell_type": "markdown",
   "id": "4993ca55",
   "metadata": {},
   "source": [
    "# Recurrent Neural Network (RNN)\n",
    "### Goal of lesson\n",
    "- Understand Recurrent Neural Network (RNN)\n",
    "- Build a RNN on a timeseries\n",
    "- Hover over the theory of RNN (LSTM cells)\n",
    "- Use the MinMaxScaler from sklearn.\n",
    "- Create a RNN model with tensorflow\n",
    "- Applying the Dropout techniques.\n",
    "- Predict stock prices and make weather forecast using RNN.\n",
    "\n",
    "### Feed-Forward Neural Network\n",
    "- Neural network that has connection only in one direction\n",
    "\n",
    "### Recurrent Neural Network\n",
    "- Neural network that generates output that feeds back into its own inputs\n",
    "- Can do one-to-many and many-to-many relationship (not possible for feed-forward neural networks)\n",
    "- This can generate sentences (while feed-forward neural network can only generate \"words\" or fixed sets of outputs)\n",
    "- For time series\n",
    "\n",
    "![RNN](img/rnn.png)\n",
    "\n",
    "### Examples Recurrent Neural Network\n",
    "- Google translate\n",
    "- Voice recognition\n",
    "- Video copy right violation"
   ]
  },
  {
   "cell_type": "markdown",
   "id": "11047afa",
   "metadata": {},
   "source": [
    "### Theory\n",
    "- It is complex - and luckily - not needed to understand in depth\n",
    "- Quote of the author of Keras (Francios Chollet):\n",
    "    - \"*You don't need to understand everything about the specific architecutre of an LSTM cell [...] just that LSTM cell is meant to allow past information to be reinjected at a later time.*\""
   ]
  },
  {
   "cell_type": "markdown",
   "id": "61c11de8",
   "metadata": {},
   "source": [
    "> #### Programming Notes:\n",
    "> - Libraries used\n",
    ">     - [**pandas**](https://pandas.pydata.org) - a data analysis and manipulation tool\n",
    ">     - [**numpy**](http://numpy.org) - scientific computing with Python ([Lecture on NumPy](https://youtu.be/BpzpU8_j0-c))\n",
    ">     - [**matplotlib**](http://matplotlib.org) - visualization with Python ([Lecture on **visualization**](https://youtu.be/htIh8YHh4xs))\n",
    ">     - [**tensorflow**](https://www.tensorflow.org) - end-to-end open source machine learning platform\n",
    "> - Functionality and concepts used\n",
    ">     - [**CSV**](https://en.wikipedia.org/wiki/Comma-separated_values) file ([Lecture on CSV](https://youtu.be/LEyojSOg4EI))\n",
    ">     - [**read_csv()**](https://pandas.pydata.org/pandas-docs/stable/reference/api/pandas.read_csv.html) read a comma-separated values (csv) file into **pandas** DataFrame.\n",
    ">     - [**MinMaxScaler**](https://scikit-learn.org/stable/modules/generated/sklearn.preprocessing.MinMaxScaler.html) Transform features by scaling each feature to a given range\n",
    ">     - [**Sequential**](https://www.tensorflow.org/api_docs/python/tf/keras/Sequential) provides training and inference features for a model\n",
    ">     - [**Dense**](https://www.tensorflow.org/api_docs/python/tf/keras/layers/Dense) regular densely-connected Neural Network (NN) layer.\n",
    ">     - [**Dropout**](https://www.tensorflow.org/api_docs/python/tf/keras/layers/Dropout) applies Dropout to the input\n",
    ">     - [**LSTM**](https://www.tensorflow.org/api_docs/python/tf/keras/layers/LSTM) Long Short-Term Memory layer - Hochreiter 1997"
   ]
  },
  {
   "cell_type": "code",
   "execution_count": 1,
   "id": "fe858c9a",
   "metadata": {},
   "outputs": [],
   "source": [
    "# rnn : neural network that generates output that feeds back into its own input.\n",
    "# recurrent, iterations of the same data\n",
    "\n",
    "# many-to-many relationship\n",
    "\n",
    "# data gets re-injected"
   ]
  },
  {
   "cell_type": "code",
   "execution_count": 2,
   "id": "0a1c4a79",
   "metadata": {},
   "outputs": [],
   "source": [
    "import numpy as np\n",
    "import pandas as pd\n",
    "from sklearn.preprocessing import MinMaxScaler\n",
    "from tensorflow.keras.models import Sequential\n",
    "from tensorflow.keras.layers import Dense, LSTM, Dropout\n",
    "import matplotlib.pyplot as plt\n",
    "%matplotlib inline"
   ]
  },
  {
   "cell_type": "code",
   "execution_count": 3,
   "id": "4fd35a0b",
   "metadata": {},
   "outputs": [
    {
     "data": {
      "text/html": [
       "<div>\n",
       "<style scoped>\n",
       "    .dataframe tbody tr th:only-of-type {\n",
       "        vertical-align: middle;\n",
       "    }\n",
       "\n",
       "    .dataframe tbody tr th {\n",
       "        vertical-align: top;\n",
       "    }\n",
       "\n",
       "    .dataframe thead th {\n",
       "        text-align: right;\n",
       "    }\n",
       "</style>\n",
       "<table border=\"1\" class=\"dataframe\">\n",
       "  <thead>\n",
       "    <tr style=\"text-align: right;\">\n",
       "      <th></th>\n",
       "      <th>High</th>\n",
       "      <th>Low</th>\n",
       "      <th>Open</th>\n",
       "      <th>Close</th>\n",
       "      <th>Volume</th>\n",
       "      <th>Adj Close</th>\n",
       "    </tr>\n",
       "    <tr>\n",
       "      <th>Date</th>\n",
       "      <th></th>\n",
       "      <th></th>\n",
       "      <th></th>\n",
       "      <th></th>\n",
       "      <th></th>\n",
       "      <th></th>\n",
       "    </tr>\n",
       "  </thead>\n",
       "  <tbody>\n",
       "    <tr>\n",
       "      <th>2000-01-03</th>\n",
       "      <td>1.004464</td>\n",
       "      <td>0.907924</td>\n",
       "      <td>0.936384</td>\n",
       "      <td>0.999442</td>\n",
       "      <td>535796800.0</td>\n",
       "      <td>0.858137</td>\n",
       "    </tr>\n",
       "    <tr>\n",
       "      <th>2000-01-04</th>\n",
       "      <td>0.987723</td>\n",
       "      <td>0.903460</td>\n",
       "      <td>0.966518</td>\n",
       "      <td>0.915179</td>\n",
       "      <td>512377600.0</td>\n",
       "      <td>0.785788</td>\n",
       "    </tr>\n",
       "    <tr>\n",
       "      <th>2000-01-05</th>\n",
       "      <td>0.987165</td>\n",
       "      <td>0.919643</td>\n",
       "      <td>0.926339</td>\n",
       "      <td>0.928571</td>\n",
       "      <td>778321600.0</td>\n",
       "      <td>0.797286</td>\n",
       "    </tr>\n",
       "    <tr>\n",
       "      <th>2000-01-06</th>\n",
       "      <td>0.955357</td>\n",
       "      <td>0.848214</td>\n",
       "      <td>0.947545</td>\n",
       "      <td>0.848214</td>\n",
       "      <td>767972800.0</td>\n",
       "      <td>0.728291</td>\n",
       "    </tr>\n",
       "    <tr>\n",
       "      <th>2000-01-07</th>\n",
       "      <td>0.901786</td>\n",
       "      <td>0.852679</td>\n",
       "      <td>0.861607</td>\n",
       "      <td>0.888393</td>\n",
       "      <td>460734400.0</td>\n",
       "      <td>0.762789</td>\n",
       "    </tr>\n",
       "  </tbody>\n",
       "</table>\n",
       "</div>"
      ],
      "text/plain": [
       "                High       Low      Open     Close       Volume  Adj Close\n",
       "Date                                                                      \n",
       "2000-01-03  1.004464  0.907924  0.936384  0.999442  535796800.0   0.858137\n",
       "2000-01-04  0.987723  0.903460  0.966518  0.915179  512377600.0   0.785788\n",
       "2000-01-05  0.987165  0.919643  0.926339  0.928571  778321600.0   0.797286\n",
       "2000-01-06  0.955357  0.848214  0.947545  0.848214  767972800.0   0.728291\n",
       "2000-01-07  0.901786  0.852679  0.861607  0.888393  460734400.0   0.762789"
      ]
     },
     "execution_count": 3,
     "metadata": {},
     "output_type": "execute_result"
    }
   ],
   "source": [
    "data = pd.read_csv('files/aapl.csv', parse_dates=True, index_col=0)\n",
    "data.head()"
   ]
  },
  {
   "cell_type": "code",
   "execution_count": 5,
   "id": "344cd883",
   "metadata": {},
   "outputs": [],
   "source": [
    "data_train = data.loc['2000':'2019', 'Adj Close'].to_numpy()\n",
    "data_test = data.loc['2020', 'Adj Close'].to_numpy()"
   ]
  },
  {
   "cell_type": "code",
   "execution_count": 6,
   "id": "9bb61001",
   "metadata": {},
   "outputs": [],
   "source": [
    "# normalize the data with MinMaxScaler\n",
    "# data_test would be scaled accordingly to the data_train.\n",
    "# one item at each row\n",
    "scaler = MinMaxScaler()\n",
    "data_train = scaler.fit_transform(data_train.reshape(-1, 1)) # reshape to one entry per row\n",
    "data_test = scaler.transform(data_test.reshape(-1, 1)) # we've fitted already by using fit_transform(). So we can just transform without fitting."
   ]
  },
  {
   "cell_type": "code",
   "execution_count": 6,
   "id": "c7aea019",
   "metadata": {},
   "outputs": [],
   "source": [
    "\n",
    "# wtd : take a history of data and then we want to predict the next price.\n",
    "# so we take the price for in a size of 40,\n",
    "# and then we take the label to be the next value.\n",
    "# so we want to predict the next value.\n"
   ]
  },
  {
   "cell_type": "code",
   "execution_count": 7,
   "id": "3e370cbd",
   "metadata": {},
   "outputs": [],
   "source": [
    "def data_preparation(data):\n",
    "    x = []\n",
    "    y = []\n",
    "    \n",
    "    for i in range(40, len(data)):\n",
    "        x.append(data[i-40:i, 0])\n",
    "        y.append(data[i])\n",
    "        \n",
    "    x = np.array(x)\n",
    "    y = np.array(y)\n",
    "    \n",
    "    x = x.reshape(x.shape[0], x.shape[1], 1)\n",
    "    \n",
    "    return x, y"
   ]
  },
  {
   "cell_type": "code",
   "execution_count": 8,
   "id": "5b4e5367",
   "metadata": {},
   "outputs": [],
   "source": [
    "x_train, y_train = data_preparation(data_train)"
   ]
  },
  {
   "cell_type": "code",
   "execution_count": 9,
   "id": "04c07651",
   "metadata": {},
   "outputs": [
    {
     "data": {
      "text/plain": [
       "((4991, 40, 1), (4991, 1))"
      ]
     },
     "execution_count": 9,
     "metadata": {},
     "output_type": "execute_result"
    }
   ],
   "source": [
    "x_train.shape, y_train.shape # window size= 40"
   ]
  },
  {
   "cell_type": "code",
   "execution_count": 11,
   "id": "e34c2a5f",
   "metadata": {},
   "outputs": [],
   "source": [
    "x_test, y_test = data_preparation(data_test)"
   ]
  },
  {
   "cell_type": "code",
   "execution_count": 12,
   "id": "d0d3bd34",
   "metadata": {},
   "outputs": [],
   "source": [
    "# idea: return_sequences = True (means you can have feedback)\n",
    "# it means we can feedback in it. so it can return the data inside here.\n",
    "model = Sequential()\n",
    "model.add(LSTM(units=45, return_sequences=True,\n",
    "              input_shape=(x_train.shape[1], 1))) # 40, 1\n",
    "model.add(LSTM(units=45, return_sequences=True))\n",
    "model.add(LSTM(units=45)) # no return sequence\n",
    "model.add(Dense(units=1))\n",
    "\n",
    "model.compile(optimizer='adam', loss='mean_squared_error',\n",
    "             metrics=['accuracy'])"
   ]
  },
  {
   "cell_type": "code",
   "execution_count": 13,
   "id": "750f2cb7",
   "metadata": {},
   "outputs": [
    {
     "name": "stdout",
     "output_type": "stream",
     "text": [
      "Epoch 1/5\n",
      "156/156 [==============================] - 8s 23ms/step - loss: 0.0026 - accuracy: 4.0072e-04\n",
      "Epoch 2/5\n",
      "156/156 [==============================] - 4s 23ms/step - loss: 2.7148e-04 - accuracy: 4.0072e-04\n",
      "Epoch 3/5\n",
      "156/156 [==============================] - 4s 23ms/step - loss: 2.0236e-04 - accuracy: 4.0072e-04\n",
      "Epoch 4/5\n",
      "156/156 [==============================] - 4s 23ms/step - loss: 1.8809e-04 - accuracy: 4.0072e-04\n",
      "Epoch 5/5\n",
      "156/156 [==============================] - 4s 23ms/step - loss: 1.5364e-04 - accuracy: 4.0072e-04\n"
     ]
    },
    {
     "data": {
      "text/plain": [
       "<keras.callbacks.History at 0x1f86a19fd90>"
      ]
     },
     "execution_count": 13,
     "metadata": {},
     "output_type": "execute_result"
    }
   ],
   "source": [
    "model.fit(x_train, y_train, epochs=5, batch_size=32)"
   ]
  },
  {
   "cell_type": "code",
   "execution_count": 14,
   "id": "04b98347",
   "metadata": {},
   "outputs": [
    {
     "name": "stdout",
     "output_type": "stream",
     "text": [
      "7/7 [==============================] - 1s 8ms/step\n"
     ]
    }
   ],
   "source": [
    "y_pred = model.predict(x_test)"
   ]
  },
  {
   "cell_type": "code",
   "execution_count": 15,
   "id": "06728087",
   "metadata": {},
   "outputs": [
    {
     "data": {
      "text/plain": [
       "(213, 1)"
      ]
     },
     "execution_count": 15,
     "metadata": {},
     "output_type": "execute_result"
    }
   ],
   "source": [
    "y_pred.shape # dimension\n",
    "# 213 : the number of trading days in a year."
   ]
  },
  {
   "cell_type": "code",
   "execution_count": 15,
   "id": "9da1a52d",
   "metadata": {},
   "outputs": [
    {
     "data": {
      "text/plain": [
       "[<matplotlib.lines.Line2D at 0x2083f9d0dc0>]"
      ]
     },
     "execution_count": 15,
     "metadata": {},
     "output_type": "execute_result"
    },
    {
     "data": {
      "image/png": "[encoded data removed]",
      "text/plain": [
       "<Figure size 432x288 with 1 Axes>"
      ]
     },
     "metadata": {
      "needs_background": "light"
     },
     "output_type": "display_data"
    }
   ],
   "source": [
    "fig, ax = plt.subplots()\n",
    "ax.plot(y_pred)\n",
    "ax.plot(y_test, c='r')\n",
    "\n",
    "# the red is the real price.\n",
    "# real price is way more going up and down.\n",
    "# our prediction is not good. its kind of slow. \n",
    "\n",
    "# the intervals here are not the prices. \n",
    "# you can transform that back."
   ]
  },
  {
   "cell_type": "code",
   "execution_count": 16,
   "id": "67bfd99d",
   "metadata": {},
   "outputs": [
    {
     "data": {
      "text/plain": [
       "[<matplotlib.lines.Line2D at 0x1f8729f9a00>]"
      ]
     },
     "execution_count": 16,
     "metadata": {},
     "output_type": "execute_result"
    },
    {
     "data": {
      "image/png": "[encoded data removed]",
      "text/plain": [
       "<Figure size 432x288 with 1 Axes>"
      ]
     },
     "metadata": {
      "needs_background": "light"
     },
     "output_type": "display_data"
    }
   ],
   "source": [
    "# transform it back with inverse_trasnform()\n",
    "y_unscaled = scaler.inverse_transform(y_pred) # now you've got the real values.\n",
    "\n",
    "fig, ax = plt.subplots()\n",
    "y_real = data.loc['2020', 'Adj Close'].to_numpy()\n",
    "\n",
    "ax.plot(y_real[40:])\n",
    "ax.plot(y_unscaled)\n",
    "\n",
    "# fig 해설\n",
    "# it seems this is the exact same chart.\n",
    "# but the difference is here we have prices in us dollars.\n",
    "\n",
    "# x-axis: the day numbers"
   ]
  },
  {
   "cell_type": "code",
   "execution_count": null,
   "id": "6e5ddf33",
   "metadata": {},
   "outputs": [],
   "source": []
  },
  {
   "cell_type": "code",
   "execution_count": null,
   "id": "03ccf805",
   "metadata": {},
   "outputs": [],
   "source": []
  },
  {
   "cell_type": "code",
   "execution_count": null,
   "id": "17898b5f",
   "metadata": {},
   "outputs": [],
   "source": []
  }
 ],
 "metadata": {
  "kernelspec": {
   "display_name": "Python 3 (ipykernel)",
   "language": "python",
   "name": "python3"
  },
  "language_info": {
   "codemirror_mode": {
    "name": "ipython",
    "version": 3
   },
   "file_extension": ".py",
   "mimetype": "text/x-python",
   "name": "python",
   "nbconvert_exporter": "python",
   "pygments_lexer": "ipython3",
   "version": "3.9.12"
  }
 },
 "nbformat": 4,
 "nbformat_minor": 5
}
